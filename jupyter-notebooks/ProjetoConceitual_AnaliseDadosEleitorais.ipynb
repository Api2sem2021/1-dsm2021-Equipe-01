{
 "cells": [
  {
   "cell_type": "markdown",
   "id": "medieval-label",
   "metadata": {},
   "source": [
    "# Testando análise de dados eleitorais"
   ]
  },
  {
   "cell_type": "code",
   "execution_count": 1,
   "id": "historic-mistress",
   "metadata": {
    "scrolled": true
   },
   "outputs": [
    {
     "name": "stdout",
     "output_type": "stream",
     "text": [
      "Ano 2020 - Eleição Municipal \n",
      "\n",
      "Ano 2018 - Eleição Federal e Estadual\n"
     ]
    }
   ],
   "source": [
    "print (\"\"\"Ano 2020 - Eleição Municipal \\n\n",
    "Ano 2018 - Eleição Federal e Estadual\"\"\")"
   ]
  },
  {
   "cell_type": "markdown",
   "id": "french-elevation",
   "metadata": {},
   "source": [
    "#### Determinando o ano da eleição que será analisada"
   ]
  },
  {
   "cell_type": "code",
   "execution_count": 2,
   "id": "fluid-reservoir",
   "metadata": {},
   "outputs": [
    {
     "name": "stdout",
     "output_type": "stream",
     "text": [
      "Ano escolhido: 2018\n"
     ]
    }
   ],
   "source": [
    "eleicao_ano = 2018\n",
    "print(f\"Ano escolhido: {eleicao_ano}\")"
   ]
  },
  {
   "cell_type": "markdown",
   "id": "opposed-fellowship",
   "metadata": {},
   "source": [
    "#### Importando as bibliotecas Pandas e Matplotlib, e fazendo as configurações necessárias"
   ]
  },
  {
   "cell_type": "code",
   "execution_count": 3,
   "id": "appointed-computer",
   "metadata": {},
   "outputs": [],
   "source": [
    "import pandas as pd\n",
    "low_memory=False\n",
    "import matplotlib.pyplot as plt\n",
    "%matplotlib inline\n",
    "pd.options.display.max_columns = 80\n",
    "pd.options.display.max_rows = 90"
   ]
  },
  {
   "cell_type": "markdown",
   "id": "alpha-richmond",
   "metadata": {},
   "source": [
    "#### Carregando o .csv da eleição de interesse"
   ]
  },
  {
   "cell_type": "code",
   "execution_count": 4,
   "id": "moved-solid",
   "metadata": {},
   "outputs": [],
   "source": [
    "if eleicao_ano == 2018:\n",
    "    filename = r'D:\\WORK\\TestandoJupiter\\perfil_eleitorado_2018.csv'\n",
    "    df = pd.read_csv(filename, \n",
    "                 delimiter=';', \n",
    "                 encoding='iso-8859-1',\n",
    "                 error_bad_lines=False)\n",
    "\n",
    "elif eleicao_ano == 2020:\n",
    "    filename = r'D:\\WORK\\TestandoJupiter\\perfil_eleitorado_2020.csv'\n",
    "    df = pd.read_csv(filename, \n",
    "                 delimiter=';', \n",
    "                 encoding='iso-8859-1',\n",
    "                 error_bad_lines=False)\n",
    "\n",
    "else:\n",
    "    print(\"Escolha um ano válido\")"
   ]
  },
  {
   "cell_type": "markdown",
   "id": "limited-republic",
   "metadata": {},
   "source": [
    "#### Retorna a dimensão do .csv (linhas, colunas)"
   ]
  },
  {
   "cell_type": "code",
   "execution_count": 5,
   "id": "sexual-knock",
   "metadata": {},
   "outputs": [
    {
     "data": {
      "text/plain": [
       "(4181293, 21)"
      ]
     },
     "execution_count": 5,
     "metadata": {},
     "output_type": "execute_result"
    }
   ],
   "source": [
    "df.shape"
   ]
  },
  {
   "cell_type": "markdown",
   "id": "quick-regular",
   "metadata": {},
   "source": [
    "#### Retorna o nome das variáveis que estão no cabeçalho do .csv"
   ]
  },
  {
   "cell_type": "code",
   "execution_count": 6,
   "id": "human-finding",
   "metadata": {},
   "outputs": [
    {
     "name": "stdout",
     "output_type": "stream",
     "text": [
      "<class 'pandas.core.frame.DataFrame'>\n",
      "RangeIndex: 4181293 entries, 0 to 4181292\n",
      "Data columns (total 21 columns):\n",
      " #   Column                      Dtype \n",
      "---  ------                      ----- \n",
      " 0   DT_GERACAO                  object\n",
      " 1   HH_GERACAO                  object\n",
      " 2   ANO_ELEICAO                 int64 \n",
      " 3   SG_UF                       object\n",
      " 4   CD_MUNICIPIO                int64 \n",
      " 5   NM_MUNICIPIO                object\n",
      " 6   CD_MUN_SIT_BIOMETRIA        int64 \n",
      " 7   DS_MUN_SIT_BIOMETRIA        object\n",
      " 8   NR_ZONA                     int64 \n",
      " 9   CD_GENERO                   int64 \n",
      " 10  DS_GENERO                   object\n",
      " 11  CD_ESTADO_CIVIL             int64 \n",
      " 12  DS_ESTADO_CIVIL             object\n",
      " 13  CD_FAIXA_ETARIA             int64 \n",
      " 14  DS_FAIXA_ETARIA             object\n",
      " 15  CD_GRAU_ESCOLARIDADE        int64 \n",
      " 16  DS_GRAU_ESCOLARIDADE        object\n",
      " 17  QT_ELEITORES_PERFIL         int64 \n",
      " 18  QT_ELEITORES_BIOMETRIA      int64 \n",
      " 19  QT_ELEITORES_DEFICIENCIA    int64 \n",
      " 20  QT_ELEITORES_INC_NM_SOCIAL  int64 \n",
      "dtypes: int64(12), object(9)\n",
      "memory usage: 669.9+ MB\n"
     ]
    }
   ],
   "source": [
    "df.info()"
   ]
  },
  {
   "cell_type": "markdown",
   "id": "pediatric-water",
   "metadata": {},
   "source": [
    "#### Amostra dos dados do .csv"
   ]
  },
  {
   "cell_type": "code",
   "execution_count": 7,
   "id": "statistical-husband",
   "metadata": {},
   "outputs": [
    {
     "data": {
      "text/html": [
       "<div>\n",
       "<style scoped>\n",
       "    .dataframe tbody tr th:only-of-type {\n",
       "        vertical-align: middle;\n",
       "    }\n",
       "\n",
       "    .dataframe tbody tr th {\n",
       "        vertical-align: top;\n",
       "    }\n",
       "\n",
       "    .dataframe thead th {\n",
       "        text-align: right;\n",
       "    }\n",
       "</style>\n",
       "<table border=\"1\" class=\"dataframe\">\n",
       "  <thead>\n",
       "    <tr style=\"text-align: right;\">\n",
       "      <th></th>\n",
       "      <th>DT_GERACAO</th>\n",
       "      <th>HH_GERACAO</th>\n",
       "      <th>ANO_ELEICAO</th>\n",
       "      <th>SG_UF</th>\n",
       "      <th>CD_MUNICIPIO</th>\n",
       "      <th>NM_MUNICIPIO</th>\n",
       "      <th>CD_MUN_SIT_BIOMETRIA</th>\n",
       "      <th>DS_MUN_SIT_BIOMETRIA</th>\n",
       "      <th>NR_ZONA</th>\n",
       "      <th>CD_GENERO</th>\n",
       "      <th>DS_GENERO</th>\n",
       "      <th>CD_ESTADO_CIVIL</th>\n",
       "      <th>DS_ESTADO_CIVIL</th>\n",
       "      <th>CD_FAIXA_ETARIA</th>\n",
       "      <th>DS_FAIXA_ETARIA</th>\n",
       "      <th>CD_GRAU_ESCOLARIDADE</th>\n",
       "      <th>DS_GRAU_ESCOLARIDADE</th>\n",
       "      <th>QT_ELEITORES_PERFIL</th>\n",
       "      <th>QT_ELEITORES_BIOMETRIA</th>\n",
       "      <th>QT_ELEITORES_DEFICIENCIA</th>\n",
       "      <th>QT_ELEITORES_INC_NM_SOCIAL</th>\n",
       "    </tr>\n",
       "  </thead>\n",
       "  <tbody>\n",
       "    <tr>\n",
       "      <th>443638</th>\n",
       "      <td>17/09/2018</td>\n",
       "      <td>23:21:37</td>\n",
       "      <td>2018</td>\n",
       "      <td>PI</td>\n",
       "      <td>11290</td>\n",
       "      <td>MONSENHOR HIPÓLITO</td>\n",
       "      <td>1</td>\n",
       "      <td>Biométrico</td>\n",
       "      <td>28</td>\n",
       "      <td>4</td>\n",
       "      <td>FEMININO</td>\n",
       "      <td>1</td>\n",
       "      <td>SOLTEIRO</td>\n",
       "      <td>1800</td>\n",
       "      <td>18 anos</td>\n",
       "      <td>3</td>\n",
       "      <td>ENSINO FUNDAMENTAL INCOMPLETO</td>\n",
       "      <td>18</td>\n",
       "      <td>18</td>\n",
       "      <td>0</td>\n",
       "      <td>0</td>\n",
       "    </tr>\n",
       "    <tr>\n",
       "      <th>3973929</th>\n",
       "      <td>17/09/2018</td>\n",
       "      <td>23:21:37</td>\n",
       "      <td>2018</td>\n",
       "      <td>RS</td>\n",
       "      <td>86487</td>\n",
       "      <td>CANDIOTA</td>\n",
       "      <td>1</td>\n",
       "      <td>Biométrico</td>\n",
       "      <td>142</td>\n",
       "      <td>4</td>\n",
       "      <td>FEMININO</td>\n",
       "      <td>3</td>\n",
       "      <td>CASADO</td>\n",
       "      <td>4549</td>\n",
       "      <td>45 a 49 anos</td>\n",
       "      <td>2</td>\n",
       "      <td>LÊ E ESCREVE</td>\n",
       "      <td>2</td>\n",
       "      <td>2</td>\n",
       "      <td>0</td>\n",
       "      <td>0</td>\n",
       "    </tr>\n",
       "    <tr>\n",
       "      <th>4113592</th>\n",
       "      <td>17/09/2018</td>\n",
       "      <td>23:21:37</td>\n",
       "      <td>2018</td>\n",
       "      <td>PR</td>\n",
       "      <td>75094</td>\n",
       "      <td>CLEVELÂNDIA</td>\n",
       "      <td>1</td>\n",
       "      <td>Biométrico</td>\n",
       "      <td>47</td>\n",
       "      <td>2</td>\n",
       "      <td>MASCULINO</td>\n",
       "      <td>1</td>\n",
       "      <td>SOLTEIRO</td>\n",
       "      <td>7074</td>\n",
       "      <td>70 a 74 anos</td>\n",
       "      <td>3</td>\n",
       "      <td>ENSINO FUNDAMENTAL INCOMPLETO</td>\n",
       "      <td>3</td>\n",
       "      <td>3</td>\n",
       "      <td>0</td>\n",
       "      <td>0</td>\n",
       "    </tr>\n",
       "    <tr>\n",
       "      <th>3153968</th>\n",
       "      <td>17/09/2018</td>\n",
       "      <td>23:21:37</td>\n",
       "      <td>2018</td>\n",
       "      <td>SP</td>\n",
       "      <td>71030</td>\n",
       "      <td>SÃO MANUEL</td>\n",
       "      <td>0</td>\n",
       "      <td>Sem biometria</td>\n",
       "      <td>129</td>\n",
       "      <td>4</td>\n",
       "      <td>FEMININO</td>\n",
       "      <td>9</td>\n",
       "      <td>DIVORCIADO</td>\n",
       "      <td>3539</td>\n",
       "      <td>35 a 39 anos</td>\n",
       "      <td>6</td>\n",
       "      <td>ENSINO MÉDIO COMPLETO</td>\n",
       "      <td>21</td>\n",
       "      <td>19</td>\n",
       "      <td>0</td>\n",
       "      <td>0</td>\n",
       "    </tr>\n",
       "    <tr>\n",
       "      <th>1089119</th>\n",
       "      <td>17/09/2018</td>\n",
       "      <td>23:21:37</td>\n",
       "      <td>2018</td>\n",
       "      <td>PB</td>\n",
       "      <td>22217</td>\n",
       "      <td>SOLÂNEA</td>\n",
       "      <td>1</td>\n",
       "      <td>Biométrico</td>\n",
       "      <td>48</td>\n",
       "      <td>2</td>\n",
       "      <td>MASCULINO</td>\n",
       "      <td>3</td>\n",
       "      <td>CASADO</td>\n",
       "      <td>1900</td>\n",
       "      <td>19 anos</td>\n",
       "      <td>5</td>\n",
       "      <td>ENSINO MÉDIO INCOMPLETO</td>\n",
       "      <td>1</td>\n",
       "      <td>1</td>\n",
       "      <td>0</td>\n",
       "      <td>0</td>\n",
       "    </tr>\n",
       "  </tbody>\n",
       "</table>\n",
       "</div>"
      ],
      "text/plain": [
       "         DT_GERACAO HH_GERACAO  ANO_ELEICAO SG_UF  CD_MUNICIPIO  \\\n",
       "443638   17/09/2018   23:21:37         2018    PI         11290   \n",
       "3973929  17/09/2018   23:21:37         2018    RS         86487   \n",
       "4113592  17/09/2018   23:21:37         2018    PR         75094   \n",
       "3153968  17/09/2018   23:21:37         2018    SP         71030   \n",
       "1089119  17/09/2018   23:21:37         2018    PB         22217   \n",
       "\n",
       "               NM_MUNICIPIO  CD_MUN_SIT_BIOMETRIA DS_MUN_SIT_BIOMETRIA  \\\n",
       "443638   MONSENHOR HIPÓLITO                     1           Biométrico   \n",
       "3973929            CANDIOTA                     1           Biométrico   \n",
       "4113592         CLEVELÂNDIA                     1           Biométrico   \n",
       "3153968          SÃO MANUEL                     0        Sem biometria   \n",
       "1089119             SOLÂNEA                     1           Biométrico   \n",
       "\n",
       "         NR_ZONA  CD_GENERO  DS_GENERO  CD_ESTADO_CIVIL DS_ESTADO_CIVIL  \\\n",
       "443638        28          4   FEMININO                1        SOLTEIRO   \n",
       "3973929      142          4   FEMININO                3          CASADO   \n",
       "4113592       47          2  MASCULINO                1        SOLTEIRO   \n",
       "3153968      129          4   FEMININO                9      DIVORCIADO   \n",
       "1089119       48          2  MASCULINO                3          CASADO   \n",
       "\n",
       "         CD_FAIXA_ETARIA                 DS_FAIXA_ETARIA  \\\n",
       "443638              1800  18 anos                          \n",
       "3973929             4549  45 a 49 anos                     \n",
       "4113592             7074  70 a 74 anos                     \n",
       "3153968             3539  35 a 39 anos                     \n",
       "1089119             1900  19 anos                          \n",
       "\n",
       "         CD_GRAU_ESCOLARIDADE           DS_GRAU_ESCOLARIDADE  \\\n",
       "443638                      3  ENSINO FUNDAMENTAL INCOMPLETO   \n",
       "3973929                     2                   LÊ E ESCREVE   \n",
       "4113592                     3  ENSINO FUNDAMENTAL INCOMPLETO   \n",
       "3153968                     6          ENSINO MÉDIO COMPLETO   \n",
       "1089119                     5        ENSINO MÉDIO INCOMPLETO   \n",
       "\n",
       "         QT_ELEITORES_PERFIL  QT_ELEITORES_BIOMETRIA  \\\n",
       "443638                    18                      18   \n",
       "3973929                    2                       2   \n",
       "4113592                    3                       3   \n",
       "3153968                   21                      19   \n",
       "1089119                    1                       1   \n",
       "\n",
       "         QT_ELEITORES_DEFICIENCIA  QT_ELEITORES_INC_NM_SOCIAL  \n",
       "443638                          0                           0  \n",
       "3973929                         0                           0  \n",
       "4113592                         0                           0  \n",
       "3153968                         0                           0  \n",
       "1089119                         0                           0  "
      ]
     },
     "execution_count": 7,
     "metadata": {},
     "output_type": "execute_result"
    }
   ],
   "source": [
    "df.sample(5)"
   ]
  },
  {
   "cell_type": "markdown",
   "id": "described-series",
   "metadata": {},
   "source": [
    "#### Filtrando um subgrupo município"
   ]
  },
  {
   "cell_type": "code",
   "execution_count": 8,
   "id": "demonstrated-diary",
   "metadata": {},
   "outputs": [],
   "source": [
    "cidade = df.query('NM_MUNICIPIO == \"SÃO JOSÉ DOS CAMPOS\"')"
   ]
  },
  {
   "cell_type": "markdown",
   "id": "existing-humanitarian",
   "metadata": {},
   "source": [
    "#### Plot Grau de Escolaridade"
   ]
  },
  {
   "cell_type": "code",
   "execution_count": 9,
   "id": "super-albania",
   "metadata": {},
   "outputs": [
    {
     "data": {
      "text/plain": [
       "<AxesSubplot:xlabel='DS_GRAU_ESCOLARIDADE'>"
      ]
     },
     "execution_count": 9,
     "metadata": {},
     "output_type": "execute_result"
    },
    {
     "data": {
      "image/png": "[encoded data removed]",
      "text/plain": [
       "<Figure size 432x288 with 1 Axes>"
      ]
     },
     "metadata": {
      "needs_background": "light"
     },
     "output_type": "display_data"
    }
   ],
   "source": [
    "cidade.groupby('DS_GRAU_ESCOLARIDADE')['QT_ELEITORES_PERFIL'].sum().sort_values().plot(kind='bar')"
   ]
  },
  {
   "cell_type": "markdown",
   "id": "distant-amount",
   "metadata": {},
   "source": [
    "#### Plot Estado Civil"
   ]
  },
  {
   "cell_type": "code",
   "execution_count": 10,
   "id": "straight-influence",
   "metadata": {},
   "outputs": [
    {
     "data": {
      "text/plain": [
       "<AxesSubplot:xlabel='DS_ESTADO_CIVIL'>"
      ]
     },
     "execution_count": 10,
     "metadata": {},
     "output_type": "execute_result"
    },
    {
     "data": {
      "image/png": "[encoded data removed]",
      "text/plain": [
       "<Figure size 432x288 with 1 Axes>"
      ]
     },
     "metadata": {
      "needs_background": "light"
     },
     "output_type": "display_data"
    }
   ],
   "source": [
    "cidade.groupby('DS_ESTADO_CIVIL')['QT_ELEITORES_PERFIL'].sum().sort_values().plot(kind='bar')"
   ]
  },
  {
   "cell_type": "markdown",
   "id": "bulgarian-nashville",
   "metadata": {},
   "source": [
    "#### Plot Faixa Etária"
   ]
  },
  {
   "cell_type": "code",
   "execution_count": 13,
   "id": "unlike-transmission",
   "metadata": {},
   "outputs": [
    {
     "data": {
      "text/plain": [
       "<AxesSubplot:xlabel='DS_FAIXA_ETARIA'>"
      ]
     },
     "execution_count": 13,
     "metadata": {},
     "output_type": "execute_result"
    },
    {
     "data": {
      "image/png": "[encoded data removed]",
      "text/plain": [
       "<Figure size 432x288 with 1 Axes>"
      ]
     },
     "metadata": {
      "needs_background": "light"
     },
     "output_type": "display_data"
    }
   ],
   "source": [
    "cidade.groupby('DS_FAIXA_ETARIA')['QT_ELEITORES_PERFIL'].sum().plot(kind='bar')"
   ]
  },
  {
   "cell_type": "markdown",
   "id": "impressive-frontier",
   "metadata": {},
   "source": [
    "#### Plot Quantidade de eleitores inscritos com nome social"
   ]
  },
  {
   "cell_type": "code",
   "execution_count": 12,
   "id": "fancy-appliance",
   "metadata": {},
   "outputs": [
    {
     "data": {
      "text/plain": [
       "<AxesSubplot:xlabel='QT_ELEITORES_INC_NM_SOCIAL'>"
      ]
     },
     "execution_count": 12,
     "metadata": {},
     "output_type": "execute_result"
    },
    {
     "data": {
      "image/png": "[encoded data removed]",
      "text/plain": [
       "<Figure size 432x288 with 1 Axes>"
      ]
     },
     "metadata": {
      "needs_background": "light"
     },
     "output_type": "display_data"
    }
   ],
   "source": [
    "cidade.groupby('QT_ELEITORES_INC_NM_SOCIAL')['QT_ELEITORES_PERFIL'].sum().sort_values().plot(kind='bar')"
   ]
  }
 ],
 "metadata": {
  "kernelspec": {
   "display_name": "Python 3",
   "language": "python",
   "name": "python3"
  },
  "language_info": {
   "codemirror_mode": {
    "name": "ipython",
    "version": 3
   },
   "file_extension": ".py",
   "mimetype": "text/x-python",
   "name": "python",
   "nbconvert_exporter": "python",
   "pygments_lexer": "ipython3",
   "version": "3.9.4"
  }
 },
 "nbformat": 4,
 "nbformat_minor": 5
}
