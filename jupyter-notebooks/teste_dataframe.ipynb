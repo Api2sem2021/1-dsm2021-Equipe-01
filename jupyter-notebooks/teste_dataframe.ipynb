{
 "metadata": {
  "language_info": {
   "codemirror_mode": {
    "name": "ipython",
    "version": 3
   },
   "file_extension": ".py",
   "mimetype": "text/x-python",
   "name": "python",
   "nbconvert_exporter": "python",
   "pygments_lexer": "ipython3",
   "version": "3.9.2"
  },
  "orig_nbformat": 2,
  "kernelspec": {
   "name": "python392jvsc74a57bd05b1b39f908cad561e02030726321d5507f677dc8d9c966c3306a8b37b5be8f9e",
   "display_name": "Python 3.9.2 64-bit"
  }
 },
 "nbformat": 4,
 "nbformat_minor": 2,
 "cells": [
  {
   "cell_type": "code",
   "execution_count": 21,
   "metadata": {},
   "outputs": [
    {
     "output_type": "execute_result",
     "data": {
      "text/plain": [
       "       DS_GENERO    qnt\n",
       "0       FEMININO  33860\n",
       "1      MASCULINO  31688\n",
       "2  NÃO INFORMADO   1288"
      ],
      "text/html": "<div>\n<style scoped>\n    .dataframe tbody tr th:only-of-type {\n        vertical-align: middle;\n    }\n\n    .dataframe tbody tr th {\n        vertical-align: top;\n    }\n\n    .dataframe thead th {\n        text-align: right;\n    }\n</style>\n<table border=\"1\" class=\"dataframe\">\n  <thead>\n    <tr style=\"text-align: right;\">\n      <th></th>\n      <th>DS_GENERO</th>\n      <th>qnt</th>\n    </tr>\n  </thead>\n  <tbody>\n    <tr>\n      <th>0</th>\n      <td>FEMININO</td>\n      <td>33860</td>\n    </tr>\n    <tr>\n      <th>1</th>\n      <td>MASCULINO</td>\n      <td>31688</td>\n    </tr>\n    <tr>\n      <th>2</th>\n      <td>NÃO INFORMADO</td>\n      <td>1288</td>\n    </tr>\n  </tbody>\n</table>\n</div>"
     },
     "metadata": {},
     "execution_count": 21
    }
   ],
   "source": [
    "import pandas as pd\n",
    "# Função que busca quantidade de cada tipo de valor na determinada coluna\n",
    "# Exemplo, retornar quantos tem ensino superior completo, quantos tem ensino\n",
    "# medio completo... Retorna um json com o resultado\n",
    "\n",
    "# EXEMPLO\n",
    "# SearchForColumn(\"perfil_eleitorado_2020.csv\", \"DS_GRAU_ESCOLARIDADE\", \"SÃO PAULO\")\n",
    "def SearchForColumn(path,  columnToSearch, CityToSearch=None):\n",
    "    col_list = [\"NM_MUNICIPIO\", columnToSearch]\n",
    "\n",
    "    # Lê o csv\n",
    "    iter_csv = pd.read_csv(\n",
    "        path, \n",
    "        usecols=col_list,\n",
    "        delimiter=\";\",\n",
    "        encoding='iso-8859-1',\n",
    "        error_bad_lines=False)\n",
    "\n",
    "\n",
    "    df_result = iter_csv.loc[iter_csv[\"NM_MUNICIPIO\"] == CityToSearch].drop(columns=[\"NM_MUNICIPIO\"], axis=1)\n",
    "\n",
    "    df_result = df_result.value_counts().rename_axis(columnToSearch).reset_index(name='qnt')\n",
    "\n",
    "    #df_result = df_result.to_json()\n",
    "\n",
    "    #df_result = df_result.replace(\"(\", \"\")\n",
    "    #df_result = df_result.replace(\")\", \"\")\n",
    "    #df_result = df_result.replace(\"   \", \"\")\n",
    "    #df_result = df_result.replace(\",',)\", \"\")\n",
    "    #df_result = df_result.replace(',\":', '\":')\n",
    "    #df_result = df_result.replace(\"'\", \"\")\n",
    "\n",
    "\n",
    "    return df_result\n",
    "\n",
    "path = \"perfil_eleitorado_2020.csv\"\n",
    "# TODO Quantidade no dataframe\n",
    "df = SearchForColumn(path, \"DS_GENERO\", \"SÃO PAULO\")\n",
    "\n",
    "df\n",
    "\n"
   ]
  },
  {
   "cell_type": "code",
   "execution_count": null,
   "metadata": {},
   "outputs": [],
   "source": []
  }
 ]
}