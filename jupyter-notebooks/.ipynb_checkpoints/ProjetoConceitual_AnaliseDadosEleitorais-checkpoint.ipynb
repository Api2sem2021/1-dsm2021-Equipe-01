{
 "cells": [
  {
   "cell_type": "markdown",
   "id": "medieval-label",
   "metadata": {},
   "source": [
    "# Análise de Dados Eleitorais\n",
    "## Apresentação\n",
    "Explicar o que é essa aplicação, para o que ela  serve, como utilizar...\n",
    "\n",
    "... Para realizar sua pesquisa, será necessário informar qual o ano de interesse e o município que será analisado.\n",
    "\n",
    "## Ano Eleitoral - Qual escolher?\n",
    "Você poderá analisar os dados das eleições de 2018 e 2020, mas antes de escolher um ano obserse as características de cada uma dessas eleições:\n",
    "\n",
    "ANO | TIPO DE ELEIÇÃO | CARGOS\n",
    ":---|:----------------|:------\n",
    "2018 | Nacional e Estadual | Presidente e Governador\n",
    "2020 | Municipal | Prefeito\n",
    "\n",
    "## Municípios que você poderá analisar\n",
    "Para facilitar que você encontre o município desejado, organizamos todos eles em relação a sua macroregião para sua consulta.<br>\n",
    "Clique nas setas ▶ para expandir a respectivas listas: <br><br>\n",
    "\n",
    "<details>\n",
    "    <summary><b>▶ Vale do Paraíba</b></summary>\n",
    "        • APARECIDA <br>\n",
    "        • CAÇAPAVA <br>\n",
    "        • CACHOEIRA PAULISTA <br>\n",
    "        • CANAS <br>\n",
    "        • CUNHA <br>\n",
    "        • GUARATINGUETÁ <br>\n",
    "        • IGARATÁ <br>\n",
    "        • JACAREÍ <br>\n",
    "        • JAMBEIRO <br>\n",
    "        • LAGOINHA <br>\n",
    "        • LORENA <br>\n",
    "        • NATIVIDADE DA SERRA <br>\n",
    "        • PARAIBUNA <br>\n",
    "        • PINDAMONHANGABA <br>\n",
    "        • PIQUETE <br>\n",
    "        • POTIM <br>\n",
    "        • REDENÇÃO DA SERRA <br>\n",
    "        • ROSEIRA <br>\n",
    "        • SANTA BRANCA <br>\n",
    "        • SÃO JOSÉ DOS CAMPOS <br>\n",
    "        • SÃO LUÍS DO PARAITINGA <br>\n",
    "        • TAUBATÉ <br>\n",
    "        • TREMEMBÉ <br> <br>\n",
    "</details>\n",
    "\n",
    "<details>\n",
    "    <summary><b>▶ Vale Histórico</b></summary>\n",
    "        • ARAPEÍ <br>\n",
    "        • AREIAS <br>\n",
    "        • BANANAL <br>\n",
    "        • CRUZEIRO <br>\n",
    "        • LAVRINHAS <br>\n",
    "        • QUELUZ <br>\n",
    "        • SÃO JOSÉ DO BARREIRO <br>\n",
    "        • SILVEIRAS <br> <br>\n",
    "</details>\n",
    "    \n",
    "<details>\n",
    "    <summary><b>▶ Litoral Norte</b></summary>\n",
    "        • CARAGUATATUBA <br>\n",
    "        • ILHABELA <br>\n",
    "        • SÃO SEBASTIÃO <br>\n",
    "        • UBATUBA <br> <br>\n",
    "</details>    \n",
    "    \n",
    "<details>\n",
    "    <summary><b>▶ Serra da Mantiqueira</b></summary>\n",
    "        • CAMPOS DO JORDÃO <br>\n",
    "        • MONTEIRO LOBATO <br>\n",
    "        • SANTO ANTÔNIO DO PINHAL <br>\n",
    "        • SÃO BENTO DO SAPUCAÍ <br> <br>\n",
    "</details>\n",
    "    \n",
    "<details>\n",
    "    <summary><b>▶ Região Bragantina</b></summary>\n",
    "        • ATIBAIA <br>\n",
    "        • BOM JESUS DOS PERDÕES <br>\n",
    "        • BRAGANÇA PAULISTA <br>\n",
    "        • JOANÓPOLIS <br>\n",
    "        • NAZARÉ PAULISTA <br>\n",
    "        • PIRACAIA <br>\n",
    "        • VARGEM <br> <br>\n",
    "</details>"
   ]
  },
  {
   "cell_type": "markdown",
   "id": "french-elevation",
   "metadata": {},
   "source": [
    "## Registre seus inputs!\n",
    "Nesta seção, é onde você irá declarar ao programa qual o ano e o município de interesse para sua análise. Veja um exemplo de como ficará: <br>\n",
    "\n",
    " VARIÁVEL | DESCRIÇÃO | EXEMPLO \n",
    ":---------|:----------|:-------\n",
    " `eleicao_ano` | Ano da eleição a ser analisada | `eleicao_ano = 2018` \n",
    " `eleicao_municipio` | Município a ser analisado | `eleicao_municipio = \"São José dos Campos\"` \n",
    "\n",
    "<br>\n",
    "<i>obs1: Não se esqueça de conferir se escreveu o <b>nome do município corretamente</b>, com todos acentos e espaços!</i><br>\n",
    "<i>obs2: Não se esqueça de <b>colocar o nome do município entre aspas</b>.</i>"
   ]
  },
  {
   "cell_type": "code",
   "execution_count": 1,
   "id": "fluid-reservoir",
   "metadata": {},
   "outputs": [
    {
     "name": "stdout",
     "output_type": "stream",
     "text": [
      "Ano escolhido: 2020\n",
      "Município escolhida: SÃO JOSÉ DOS CAMPOS\n"
     ]
    }
   ],
   "source": [
    "eleicao_ano = 2020                          #  <-- Insira o ano da eleição aqui\n",
    "eleicao_municipio = \"são josé dos campos\"   #  <-- Insira o nome do município aqui\n",
    "\n",
    "print(f\"Ano escolhido: {eleicao_ano}\")\n",
    "print(f\"Município escolhida: {eleicao_municipio.upper()}\")"
   ]
  },
  {
   "cell_type": "markdown",
   "id": "opposed-fellowship",
   "metadata": {},
   "source": [
    "## Importando bibliotecas e configurando seu computador"
   ]
  },
  {
   "cell_type": "code",
   "execution_count": 2,
   "id": "appointed-computer",
   "metadata": {},
   "outputs": [],
   "source": [
    "import pandas as pd\n",
    "low_memory=False\n",
    "import plotly\n",
    "import plotly.offline as py\n",
    "import plotly.graph_objects as go\n",
    "py.init_notebook_mode(connected=True)"
   ]
  },
  {
   "cell_type": "markdown",
   "id": "alpha-richmond",
   "metadata": {},
   "source": [
    "## Carregando os dados\n",
    "Os dados que vamos utilizar aqui são obtidos a partir do [TSE - Tribunal Superior Eleitoral](https://www.tse.jus.br/eleicoes/estatisticas/repositorio-de-dados-eleitorais-1/repositorio-de-dados-eleitorais).\n",
    "\n",
    "Esses dados estarão em arquivos no formato <i>.csv</i> e caso ainda os não tenha em sua máquina, faça o download:\n",
    "- [Dados do eleitorado de 2018](https://cdn.tse.jus.br/estatistica/sead/odsele/perfil_eleitorado/perfil_eleitorado_2018.zip).<br>\n",
    "- [Dados do eleitorado de 2020](https://cdn.tse.jus.br/estatistica/sead/odsele/perfil_eleitorado/perfil_eleitorado_2020.zip).\n",
    "\n",
    "<i>obs: Eles precisam ser descompactados na mesma pasta onde este notebook está armazenado.</i>\n",
    "\n",
    "Se estiver tudo ok pode seguir adiante!"
   ]
  },
  {
   "cell_type": "code",
   "execution_count": 3,
   "id": "moved-solid",
   "metadata": {},
   "outputs": [],
   "source": [
    "if eleicao_ano == 2018:\n",
    "    filename = r'./perfil_eleitorado_2018.csv'\n",
    "    df = pd.read_csv(filename, \n",
    "                 delimiter=';', \n",
    "                 encoding='iso-8859-1',\n",
    "                 error_bad_lines=False)\n",
    "\n",
    "elif eleicao_ano == 2020:\n",
    "    filename = r'./perfil_eleitorado_2020.csv'\n",
    "    df = pd.read_csv(filename, \n",
    "                 delimiter=';', \n",
    "                 encoding='iso-8859-1',\n",
    "                 error_bad_lines=False)\n",
    "\n",
    "else:\n",
    "    print(\"Escolha um ano válido\")"
   ]
  },
  {
   "cell_type": "markdown",
   "id": "described-series",
   "metadata": {},
   "source": [
    "## Filtrando o município\n",
    "Aqui o programa irá filtrar dentro do <i>.csv</i> original apenas o município que você irá analisar..."
   ]
  },
  {
   "cell_type": "code",
   "execution_count": 4,
   "id": "demonstrated-diary",
   "metadata": {},
   "outputs": [],
   "source": [
    "municipio = df.query('NM_MUNICIPIO == \"' + eleicao_municipio.upper() + '\"')"
   ]
  },
  {
   "cell_type": "markdown",
   "id": "piano-letters",
   "metadata": {},
   "source": [
    "## Uma pequena amostra dos dados\n",
    "Pra você ter uma ideia de quais são os dados que o TSE disponibilizou do município que você irá analisar, segue uma pequena amostra na tabela abaixo.\n",
    "\n",
    "A descrição e significado de cada variável do cabeçalho pode ser encontrada no [leiame.pdf](https://drive.google.com/file/d/1NoDVa7BMaPAfybyJdqCtT9MvrKj1TD1L/view)."
   ]
  },
  {
   "cell_type": "code",
   "execution_count": 5,
   "id": "devoted-scholarship",
   "metadata": {},
   "outputs": [
    {
     "data": {
      "text/html": [
       "<div>\n",
       "<style scoped>\n",
       "    .dataframe tbody tr th:only-of-type {\n",
       "        vertical-align: middle;\n",
       "    }\n",
       "\n",
       "    .dataframe tbody tr th {\n",
       "        vertical-align: top;\n",
       "    }\n",
       "\n",
       "    .dataframe thead th {\n",
       "        text-align: right;\n",
       "    }\n",
       "</style>\n",
       "<table border=\"1\" class=\"dataframe\">\n",
       "  <thead>\n",
       "    <tr style=\"text-align: right;\">\n",
       "      <th></th>\n",
       "      <th>DT_GERACAO</th>\n",
       "      <th>HH_GERACAO</th>\n",
       "      <th>ANO_ELEICAO</th>\n",
       "      <th>SG_UF</th>\n",
       "      <th>CD_MUNICIPIO</th>\n",
       "      <th>NM_MUNICIPIO</th>\n",
       "      <th>CD_MUN_SIT_BIOMETRIA</th>\n",
       "      <th>DS_MUN_SIT_BIOMETRIA</th>\n",
       "      <th>NR_ZONA</th>\n",
       "      <th>CD_GENERO</th>\n",
       "      <th>...</th>\n",
       "      <th>CD_ESTADO_CIVIL</th>\n",
       "      <th>DS_ESTADO_CIVIL</th>\n",
       "      <th>CD_FAIXA_ETARIA</th>\n",
       "      <th>DS_FAIXA_ETARIA</th>\n",
       "      <th>CD_GRAU_ESCOLARIDADE</th>\n",
       "      <th>DS_GRAU_ESCOLARIDADE</th>\n",
       "      <th>QT_ELEITORES_PERFIL</th>\n",
       "      <th>QT_ELEITORES_BIOMETRIA</th>\n",
       "      <th>QT_ELEITORES_DEFICIENCIA</th>\n",
       "      <th>QT_ELEITORES_INC_NM_SOCIAL</th>\n",
       "    </tr>\n",
       "  </thead>\n",
       "  <tbody>\n",
       "    <tr>\n",
       "      <th>4243199</th>\n",
       "      <td>10/09/2020</td>\n",
       "      <td>23:04:11</td>\n",
       "      <td>2020</td>\n",
       "      <td>SP</td>\n",
       "      <td>70998</td>\n",
       "      <td>SÃO JOSÉ DOS CAMPOS</td>\n",
       "      <td>0</td>\n",
       "      <td>Sem biometria</td>\n",
       "      <td>282</td>\n",
       "      <td>2</td>\n",
       "      <td>...</td>\n",
       "      <td>5</td>\n",
       "      <td>VIÚVO</td>\n",
       "      <td>6569</td>\n",
       "      <td>65 a 69 anos</td>\n",
       "      <td>3</td>\n",
       "      <td>ENSINO FUNDAMENTAL INCOMPLETO</td>\n",
       "      <td>41</td>\n",
       "      <td>38</td>\n",
       "      <td>1</td>\n",
       "      <td>0</td>\n",
       "    </tr>\n",
       "    <tr>\n",
       "      <th>1067935</th>\n",
       "      <td>10/09/2020</td>\n",
       "      <td>23:04:11</td>\n",
       "      <td>2020</td>\n",
       "      <td>SP</td>\n",
       "      <td>70998</td>\n",
       "      <td>SÃO JOSÉ DOS CAMPOS</td>\n",
       "      <td>0</td>\n",
       "      <td>Sem biometria</td>\n",
       "      <td>282</td>\n",
       "      <td>2</td>\n",
       "      <td>...</td>\n",
       "      <td>1</td>\n",
       "      <td>SOLTEIRO</td>\n",
       "      <td>5559</td>\n",
       "      <td>55 a 59 anos</td>\n",
       "      <td>5</td>\n",
       "      <td>ENSINO MÉDIO INCOMPLETO</td>\n",
       "      <td>31</td>\n",
       "      <td>25</td>\n",
       "      <td>1</td>\n",
       "      <td>0</td>\n",
       "    </tr>\n",
       "    <tr>\n",
       "      <th>3576191</th>\n",
       "      <td>10/09/2020</td>\n",
       "      <td>23:04:11</td>\n",
       "      <td>2020</td>\n",
       "      <td>SP</td>\n",
       "      <td>70998</td>\n",
       "      <td>SÃO JOSÉ DOS CAMPOS</td>\n",
       "      <td>0</td>\n",
       "      <td>Sem biometria</td>\n",
       "      <td>411</td>\n",
       "      <td>2</td>\n",
       "      <td>...</td>\n",
       "      <td>7</td>\n",
       "      <td>SEPARADO JUDICIALMENTE</td>\n",
       "      <td>5559</td>\n",
       "      <td>55 a 59 anos</td>\n",
       "      <td>7</td>\n",
       "      <td>SUPERIOR INCOMPLETO</td>\n",
       "      <td>7</td>\n",
       "      <td>7</td>\n",
       "      <td>0</td>\n",
       "      <td>0</td>\n",
       "    </tr>\n",
       "    <tr>\n",
       "      <th>3723407</th>\n",
       "      <td>10/09/2020</td>\n",
       "      <td>23:04:11</td>\n",
       "      <td>2020</td>\n",
       "      <td>SP</td>\n",
       "      <td>70998</td>\n",
       "      <td>SÃO JOSÉ DOS CAMPOS</td>\n",
       "      <td>0</td>\n",
       "      <td>Sem biometria</td>\n",
       "      <td>411</td>\n",
       "      <td>4</td>\n",
       "      <td>...</td>\n",
       "      <td>9</td>\n",
       "      <td>DIVORCIADO</td>\n",
       "      <td>3034</td>\n",
       "      <td>30 a 34 anos</td>\n",
       "      <td>6</td>\n",
       "      <td>ENSINO MÉDIO COMPLETO</td>\n",
       "      <td>161</td>\n",
       "      <td>158</td>\n",
       "      <td>0</td>\n",
       "      <td>0</td>\n",
       "    </tr>\n",
       "    <tr>\n",
       "      <th>29086</th>\n",
       "      <td>10/09/2020</td>\n",
       "      <td>23:04:11</td>\n",
       "      <td>2020</td>\n",
       "      <td>SP</td>\n",
       "      <td>70998</td>\n",
       "      <td>SÃO JOSÉ DOS CAMPOS</td>\n",
       "      <td>0</td>\n",
       "      <td>Sem biometria</td>\n",
       "      <td>127</td>\n",
       "      <td>2</td>\n",
       "      <td>...</td>\n",
       "      <td>3</td>\n",
       "      <td>CASADO</td>\n",
       "      <td>3539</td>\n",
       "      <td>35 a 39 anos</td>\n",
       "      <td>6</td>\n",
       "      <td>ENSINO MÉDIO COMPLETO</td>\n",
       "      <td>1086</td>\n",
       "      <td>1060</td>\n",
       "      <td>1</td>\n",
       "      <td>0</td>\n",
       "    </tr>\n",
       "    <tr>\n",
       "      <th>1067966</th>\n",
       "      <td>10/09/2020</td>\n",
       "      <td>23:04:11</td>\n",
       "      <td>2020</td>\n",
       "      <td>SP</td>\n",
       "      <td>70998</td>\n",
       "      <td>SÃO JOSÉ DOS CAMPOS</td>\n",
       "      <td>0</td>\n",
       "      <td>Sem biometria</td>\n",
       "      <td>282</td>\n",
       "      <td>2</td>\n",
       "      <td>...</td>\n",
       "      <td>1</td>\n",
       "      <td>SOLTEIRO</td>\n",
       "      <td>7579</td>\n",
       "      <td>75 a 79 anos</td>\n",
       "      <td>6</td>\n",
       "      <td>ENSINO MÉDIO COMPLETO</td>\n",
       "      <td>4</td>\n",
       "      <td>2</td>\n",
       "      <td>0</td>\n",
       "      <td>0</td>\n",
       "    </tr>\n",
       "    <tr>\n",
       "      <th>3587289</th>\n",
       "      <td>10/09/2020</td>\n",
       "      <td>23:04:11</td>\n",
       "      <td>2020</td>\n",
       "      <td>SP</td>\n",
       "      <td>70998</td>\n",
       "      <td>SÃO JOSÉ DOS CAMPOS</td>\n",
       "      <td>0</td>\n",
       "      <td>Sem biometria</td>\n",
       "      <td>127</td>\n",
       "      <td>4</td>\n",
       "      <td>...</td>\n",
       "      <td>1</td>\n",
       "      <td>SOLTEIRO</td>\n",
       "      <td>3034</td>\n",
       "      <td>30 a 34 anos</td>\n",
       "      <td>1</td>\n",
       "      <td>ANALFABETO</td>\n",
       "      <td>11</td>\n",
       "      <td>7</td>\n",
       "      <td>4</td>\n",
       "      <td>0</td>\n",
       "    </tr>\n",
       "    <tr>\n",
       "      <th>3720541</th>\n",
       "      <td>10/09/2020</td>\n",
       "      <td>23:04:11</td>\n",
       "      <td>2020</td>\n",
       "      <td>SP</td>\n",
       "      <td>70998</td>\n",
       "      <td>SÃO JOSÉ DOS CAMPOS</td>\n",
       "      <td>0</td>\n",
       "      <td>Sem biometria</td>\n",
       "      <td>411</td>\n",
       "      <td>4</td>\n",
       "      <td>...</td>\n",
       "      <td>5</td>\n",
       "      <td>VIÚVO</td>\n",
       "      <td>6569</td>\n",
       "      <td>65 a 69 anos</td>\n",
       "      <td>6</td>\n",
       "      <td>ENSINO MÉDIO COMPLETO</td>\n",
       "      <td>132</td>\n",
       "      <td>129</td>\n",
       "      <td>9</td>\n",
       "      <td>0</td>\n",
       "    </tr>\n",
       "    <tr>\n",
       "      <th>32010</th>\n",
       "      <td>10/09/2020</td>\n",
       "      <td>23:04:11</td>\n",
       "      <td>2020</td>\n",
       "      <td>SP</td>\n",
       "      <td>70998</td>\n",
       "      <td>SÃO JOSÉ DOS CAMPOS</td>\n",
       "      <td>0</td>\n",
       "      <td>Sem biometria</td>\n",
       "      <td>282</td>\n",
       "      <td>4</td>\n",
       "      <td>...</td>\n",
       "      <td>1</td>\n",
       "      <td>SOLTEIRO</td>\n",
       "      <td>4549</td>\n",
       "      <td>45 a 49 anos</td>\n",
       "      <td>8</td>\n",
       "      <td>SUPERIOR COMPLETO</td>\n",
       "      <td>120</td>\n",
       "      <td>119</td>\n",
       "      <td>0</td>\n",
       "      <td>0</td>\n",
       "    </tr>\n",
       "    <tr>\n",
       "      <th>3747376</th>\n",
       "      <td>10/09/2020</td>\n",
       "      <td>23:04:11</td>\n",
       "      <td>2020</td>\n",
       "      <td>SP</td>\n",
       "      <td>70998</td>\n",
       "      <td>SÃO JOSÉ DOS CAMPOS</td>\n",
       "      <td>0</td>\n",
       "      <td>Sem biometria</td>\n",
       "      <td>412</td>\n",
       "      <td>2</td>\n",
       "      <td>...</td>\n",
       "      <td>9</td>\n",
       "      <td>DIVORCIADO</td>\n",
       "      <td>5054</td>\n",
       "      <td>50 a 54 anos</td>\n",
       "      <td>6</td>\n",
       "      <td>ENSINO MÉDIO COMPLETO</td>\n",
       "      <td>249</td>\n",
       "      <td>244</td>\n",
       "      <td>2</td>\n",
       "      <td>0</td>\n",
       "    </tr>\n",
       "  </tbody>\n",
       "</table>\n",
       "<p>10 rows × 21 columns</p>\n",
       "</div>"
      ],
      "text/plain": [
       "         DT_GERACAO HH_GERACAO  ANO_ELEICAO SG_UF  CD_MUNICIPIO  \\\n",
       "4243199  10/09/2020   23:04:11         2020    SP         70998   \n",
       "1067935  10/09/2020   23:04:11         2020    SP         70998   \n",
       "3576191  10/09/2020   23:04:11         2020    SP         70998   \n",
       "3723407  10/09/2020   23:04:11         2020    SP         70998   \n",
       "29086    10/09/2020   23:04:11         2020    SP         70998   \n",
       "1067966  10/09/2020   23:04:11         2020    SP         70998   \n",
       "3587289  10/09/2020   23:04:11         2020    SP         70998   \n",
       "3720541  10/09/2020   23:04:11         2020    SP         70998   \n",
       "32010    10/09/2020   23:04:11         2020    SP         70998   \n",
       "3747376  10/09/2020   23:04:11         2020    SP         70998   \n",
       "\n",
       "                NM_MUNICIPIO  CD_MUN_SIT_BIOMETRIA DS_MUN_SIT_BIOMETRIA  \\\n",
       "4243199  SÃO JOSÉ DOS CAMPOS                     0        Sem biometria   \n",
       "1067935  SÃO JOSÉ DOS CAMPOS                     0        Sem biometria   \n",
       "3576191  SÃO JOSÉ DOS CAMPOS                     0        Sem biometria   \n",
       "3723407  SÃO JOSÉ DOS CAMPOS                     0        Sem biometria   \n",
       "29086    SÃO JOSÉ DOS CAMPOS                     0        Sem biometria   \n",
       "1067966  SÃO JOSÉ DOS CAMPOS                     0        Sem biometria   \n",
       "3587289  SÃO JOSÉ DOS CAMPOS                     0        Sem biometria   \n",
       "3720541  SÃO JOSÉ DOS CAMPOS                     0        Sem biometria   \n",
       "32010    SÃO JOSÉ DOS CAMPOS                     0        Sem biometria   \n",
       "3747376  SÃO JOSÉ DOS CAMPOS                     0        Sem biometria   \n",
       "\n",
       "         NR_ZONA  CD_GENERO  ... CD_ESTADO_CIVIL         DS_ESTADO_CIVIL  \\\n",
       "4243199      282          2  ...               5                   VIÚVO   \n",
       "1067935      282          2  ...               1                SOLTEIRO   \n",
       "3576191      411          2  ...               7  SEPARADO JUDICIALMENTE   \n",
       "3723407      411          4  ...               9              DIVORCIADO   \n",
       "29086        127          2  ...               3                  CASADO   \n",
       "1067966      282          2  ...               1                SOLTEIRO   \n",
       "3587289      127          4  ...               1                SOLTEIRO   \n",
       "3720541      411          4  ...               5                   VIÚVO   \n",
       "32010        282          4  ...               1                SOLTEIRO   \n",
       "3747376      412          2  ...               9              DIVORCIADO   \n",
       "\n",
       "        CD_FAIXA_ETARIA                 DS_FAIXA_ETARIA CD_GRAU_ESCOLARIDADE  \\\n",
       "4243199            6569  65 a 69 anos                                      3   \n",
       "1067935            5559  55 a 59 anos                                      5   \n",
       "3576191            5559  55 a 59 anos                                      7   \n",
       "3723407            3034  30 a 34 anos                                      6   \n",
       "29086              3539  35 a 39 anos                                      6   \n",
       "1067966            7579  75 a 79 anos                                      6   \n",
       "3587289            3034  30 a 34 anos                                      1   \n",
       "3720541            6569  65 a 69 anos                                      6   \n",
       "32010              4549  45 a 49 anos                                      8   \n",
       "3747376            5054  50 a 54 anos                                      6   \n",
       "\n",
       "                  DS_GRAU_ESCOLARIDADE QT_ELEITORES_PERFIL  \\\n",
       "4243199  ENSINO FUNDAMENTAL INCOMPLETO                  41   \n",
       "1067935        ENSINO MÉDIO INCOMPLETO                  31   \n",
       "3576191            SUPERIOR INCOMPLETO                   7   \n",
       "3723407          ENSINO MÉDIO COMPLETO                 161   \n",
       "29086            ENSINO MÉDIO COMPLETO                1086   \n",
       "1067966          ENSINO MÉDIO COMPLETO                   4   \n",
       "3587289                     ANALFABETO                  11   \n",
       "3720541          ENSINO MÉDIO COMPLETO                 132   \n",
       "32010                SUPERIOR COMPLETO                 120   \n",
       "3747376          ENSINO MÉDIO COMPLETO                 249   \n",
       "\n",
       "         QT_ELEITORES_BIOMETRIA  QT_ELEITORES_DEFICIENCIA  \\\n",
       "4243199                      38                         1   \n",
       "1067935                      25                         1   \n",
       "3576191                       7                         0   \n",
       "3723407                     158                         0   \n",
       "29086                      1060                         1   \n",
       "1067966                       2                         0   \n",
       "3587289                       7                         4   \n",
       "3720541                     129                         9   \n",
       "32010                       119                         0   \n",
       "3747376                     244                         2   \n",
       "\n",
       "         QT_ELEITORES_INC_NM_SOCIAL  \n",
       "4243199                           0  \n",
       "1067935                           0  \n",
       "3576191                           0  \n",
       "3723407                           0  \n",
       "29086                             0  \n",
       "1067966                           0  \n",
       "3587289                           0  \n",
       "3720541                           0  \n",
       "32010                             0  \n",
       "3747376                           0  \n",
       "\n",
       "[10 rows x 21 columns]"
      ]
     },
     "execution_count": 5,
     "metadata": {},
     "output_type": "execute_result"
    }
   ],
   "source": [
    "municipio.sample(10)"
   ]
  },
  {
   "cell_type": "markdown",
   "id": "existing-humanitarian",
   "metadata": {},
   "source": [
    "## Visualizar dados!\n",
    "### Plot Grau de Escolaridade"
   ]
  },
  {
   "cell_type": "code",
   "execution_count": 6,
   "id": "super-albania",
   "metadata": {
    "scrolled": true
   },
   "outputs": [
    {
     "data": {
      "text/plain": [
       "<AxesSubplot:xlabel='DS_GRAU_ESCOLARIDADE'>"
      ]
     },
     "execution_count": 6,
     "metadata": {},
     "output_type": "execute_result"
    },
    {
     "data": {
      "image/png": "[encoded data removed]",
      "text/plain": [
       "<Figure size 432x288 with 1 Axes>"
      ]
     },
     "metadata": {
      "needs_background": "light"
     },
     "output_type": "display_data"
    }
   ],
   "source": [
    "\n",
    "\n",
    "\n",
    "\n",
    "\n",
    "municipio.groupby('DS_GRAU_ESCOLARIDADE')['QT_ELEITORES_PERFIL'].sum().sort_values().plot(kind='bar')"
   ]
  },
  {
   "cell_type": "markdown",
   "id": "distant-amount",
   "metadata": {},
   "source": [
    "### Plot Estado Civil"
   ]
  },
  {
   "cell_type": "code",
   "execution_count": 7,
   "id": "straight-influence",
   "metadata": {},
   "outputs": [
    {
     "data": {
      "text/plain": [
       "<AxesSubplot:xlabel='DS_ESTADO_CIVIL'>"
      ]
     },
     "execution_count": 7,
     "metadata": {},
     "output_type": "execute_result"
    },
    {
     "data": {
      "image/png": "[encoded data removed]",
      "text/plain": [
       "<Figure size 432x288 with 1 Axes>"
      ]
     },
     "metadata": {
      "needs_background": "light"
     },
     "output_type": "display_data"
    }
   ],
   "source": [
    "municipio.groupby('DS_ESTADO_CIVIL')['QT_ELEITORES_PERFIL'].sum().sort_values().plot(kind='bar')"
   ]
  },
  {
   "cell_type": "markdown",
   "id": "bulgarian-nashville",
   "metadata": {},
   "source": [
    "### Plot Faixa Etária"
   ]
  },
  {
   "cell_type": "code",
   "execution_count": 8,
   "id": "unlike-transmission",
   "metadata": {},
   "outputs": [
    {
     "data": {
      "text/plain": [
       "<AxesSubplot:xlabel='DS_FAIXA_ETARIA'>"
      ]
     },
     "execution_count": 8,
     "metadata": {},
     "output_type": "execute_result"
    },
    {
     "data": {
      "image/png": "[encoded data removed]",
      "text/plain": [
       "<Figure size 432x288 with 1 Axes>"
      ]
     },
     "metadata": {
      "needs_background": "light"
     },
     "output_type": "display_data"
    }
   ],
   "source": [
    "municipio.groupby('DS_FAIXA_ETARIA')['QT_ELEITORES_PERFIL'].sum().plot(kind='bar')"
   ]
  },
  {
   "cell_type": "markdown",
   "id": "impressive-frontier",
   "metadata": {},
   "source": [
    "### Plot Quantidade de eleitores inscritos com nome social"
   ]
  },
  {
   "cell_type": "code",
   "execution_count": 9,
   "id": "fancy-appliance",
   "metadata": {},
   "outputs": [
    {
     "data": {
      "text/plain": [
       "<AxesSubplot:xlabel='QT_ELEITORES_INC_NM_SOCIAL'>"
      ]
     },
     "execution_count": 9,
     "metadata": {},
     "output_type": "execute_result"
    },
    {
     "data": {
      "image/png": "[encoded data removed]",
      "text/plain": [
       "<Figure size 432x288 with 1 Axes>"
      ]
     },
     "metadata": {
      "needs_background": "light"
     },
     "output_type": "display_data"
    }
   ],
   "source": [
    "municipio.groupby('QT_ELEITORES_INC_NM_SOCIAL')['QT_ELEITORES_PERFIL'].sum().sort_values().plot(kind='bar')"
   ]
  }
 ],
 "metadata": {
  "kernelspec": {
   "display_name": "Python 3",
   "language": "python",
   "name": "python3"
  },
  "language_info": {
   "codemirror_mode": {
    "name": "ipython",
    "version": 3
   },
   "file_extension": ".py",
   "mimetype": "text/x-python",
   "name": "python",
   "nbconvert_exporter": "python",
   "pygments_lexer": "ipython3",
   "version": "3.9.4"
  }
 },
 "nbformat": 4,
 "nbformat_minor": 5
}
