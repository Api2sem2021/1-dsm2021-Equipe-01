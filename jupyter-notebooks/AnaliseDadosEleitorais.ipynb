{
 "cells": [
  {
   "cell_type": "markdown",
   "id": "medieval-label",
   "metadata": {},
   "source": [
    "<h1 align=\"center\">Análise de Dados Eleitorais</h1>\n",
    "______________________________________________________________________________________________________________________________\n",
    "\n",
    "## Introdução\n",
    "Bem vindo(a) ao nosso Jupyter Notebook! É ele quem vai nos auxiliar na análise de dados eleitorais, com foco particularmente no perfil que o eleitorado de diversos municípios da cobertura da [TV Vanguarda](http://vanguarda.tv/). Mas... Antes de colocarmos a mão na massa, é preciso definir alguns conceitos, como por exemplo o que é e como funciona o Jupyter Notebook, além do mais importante, como usar. \n",
    "<br>\n",
    "- Primeiramente, o Jupyter Notebook é uma aplicação web que gera o ambiente em que estamos, possibilitando usar linguagem Markdown, que gera textos como este que você está lendo agora, e ao mesmo tempo permite o acionamento de células específicas com códigos de diversas linguagens de programação. A usada neste projeto foi o Python!\n",
    "  - Para experimentar o acionamento das células, dê um clique, para selecioná-la, e então, no menu do Jupyter, aperte o botão \"▶️ Run\". Tente com essa:"
   ]
  },
  {
   "cell_type": "code",
   "execution_count": null,
   "id": "f5af0748",
   "metadata": {},
   "outputs": [],
   "source": [
    "print(\"É isso aí! Você acabou de acionar uma célula, parabéns ✨ \")"
   ]
  },
  {
   "cell_type": "markdown",
   "id": "1c117797",
   "metadata": {},
   "source": [
    "Agora que sabemos que exitem tipos de células diferentes e que podemos acioná-las para ver o resultado dos códigos, podemos continuar. \n",
    "<br>\n",
    "Neste Jupyter Notebook temos a análise de características específicas do eleitorado, não de todas. Por isso, aqui vai uma tabela demonstrando que tipos de estatísticas você pode se deparar: \n",
    "\n",
    "CARACTERÍSTICA     | TIPO                                           |\n",
    ":------------------|:-----------------------------------------------|\n",
    "Escolaridade       | Quantidade de pessoas por grau de escolaridade |\n",
    "Estado Civil       | Quantidade de pessoas por estado civil         |\n",
    "Faixa Etária       | Quantidade de pessoas por faixa de idade       |\n",
    "Uso de nome social | Quantidade de pessoas por município            |\n",
    "\n",
    "Certo, agora que estamos cientes do que podemos analisar em relação ao eleitorado, precisamos definir algumas coisas...\n",
    "\n",
    "## Qual ano eleitoral escolher?\n",
    "Por enquanto, temos à disposição os dados das eleições de 2018 e 2020, mas antes de escolher um ano, veja as características das eleições que ocorreram nestes anos:\n",
    "\n",
    "ANO  | TIPO DE ELEIÇÃO    | CARGOS                  |\n",
    ":----|:-------------------|:------------------------|\n",
    "2018 | Federal e Estadual | Presidente e Governador |\n",
    "2020 | Municipal          | Prefeito                |\n",
    "\n",
    "Abaixo temos uma variável chamada `eleicao_ano`, ela que irá se lembrar do ano que você escolheu! Se quiser, pode alterar '2018' por '2020', por exemplo <br>\n",
    "**OBS.:** Não se esqueça de acionar a célula depois, só assim o programa é executado!"
   ]
  },
  {
   "cell_type": "code",
   "execution_count": null,
   "id": "fluid-reservoir",
   "metadata": {
    "scrolled": false
   },
   "outputs": [],
   "source": [
    "eleicao_ano = 2018                      #  <-- Insira o ano da eleição aqui\n",
    "print(f\"Ano escolhido: {eleicao_ano}\")"
   ]
  },
  {
   "cell_type": "markdown",
   "id": "a616d739",
   "metadata": {},
   "source": [
    "## Lista de municípios\n",
    "Caso você se oriente por macro regiões para escolher um município, confira a lista abaixo, ela vai te ajudar!<br>\n",
    "**OBS.:** Clique nas setas \"▶\" para expandir a respectivas listas: <br> <br>\n",
    "\n",
    "<details>\n",
    "    <summary><b>▶ Vale do Paraíba</b></summary>\n",
    "        • APARECIDA <br>\n",
    "        • CAÇAPAVA <br>\n",
    "        • CACHOEIRA PAULISTA <br>\n",
    "        • CANAS <br>\n",
    "        • CUNHA <br>\n",
    "        • GUARATINGUETÁ <br>\n",
    "        • IGARATÁ <br>\n",
    "        • JACAREÍ <br>\n",
    "        • JAMBEIRO <br>\n",
    "        • LAGOINHA <br>\n",
    "        • LORENA <br>\n",
    "        • NATIVIDADE DA SERRA <br>\n",
    "        • PARAIBUNA <br>\n",
    "        • PINDAMONHANGABA <br>\n",
    "        • PIQUETE <br>\n",
    "        • POTIM <br>\n",
    "        • REDENÇÃO DA SERRA <br>\n",
    "        • ROSEIRA <br>\n",
    "        • SANTA BRANCA <br>\n",
    "        • SÃO JOSÉ DOS CAMPOS <br>\n",
    "        • SÃO LUÍS DO PARAITINGA <br>\n",
    "        • TAUBATÉ <br>\n",
    "        • TREMEMBÉ <br> <br>\n",
    "</details>\n",
    "\n",
    "<details>\n",
    "    <summary><b>▶ Vale Histórico</b></summary>\n",
    "        • ARAPEÍ <br>\n",
    "        • AREIAS <br>\n",
    "        • BANANAL <br>\n",
    "        • CRUZEIRO <br>\n",
    "        • LAVRINHAS <br>\n",
    "        • QUELUZ <br>\n",
    "        • SÃO JOSÉ DO BARREIRO <br>\n",
    "        • SILVEIRAS <br> <br>\n",
    "</details>\n",
    "    \n",
    "<details>\n",
    "    <summary><b>▶ Litoral Norte</b></summary>\n",
    "        • CARAGUATATUBA <br>\n",
    "        • ILHABELA <br>\n",
    "        • SÃO SEBASTIÃO <br>\n",
    "        • UBATUBA <br> <br>\n",
    "</details>    \n",
    "    \n",
    "<details>\n",
    "    <summary><b>▶ Serra da Mantiqueira</b></summary>\n",
    "        • CAMPOS DO JORDÃO <br>\n",
    "        • MONTEIRO LOBATO <br>\n",
    "        • SANTO ANTÔNIO DO PINHAL <br>\n",
    "        • SÃO BENTO DO SAPUCAÍ <br> <br>\n",
    "</details>\n",
    "    \n",
    "<details>\n",
    "    <summary><b>▶ Região Bragantina</b></summary>\n",
    "        • ATIBAIA <br>\n",
    "        • BOM JESUS DOS PERDÕES <br>\n",
    "        • BRAGANÇA PAULISTA <br>\n",
    "        • JOANÓPOLIS <br>\n",
    "        • NAZARÉ PAULISTA <br>\n",
    "        • PIRACAIA <br>\n",
    "        • VARGEM <br> <br>\n",
    "</details>\n",
    "\n",
    "Agora temos uma variável chamada `eleicao_municipio`, ela guardará o nome do município que você escolheu. Mas tome cuidado com a escrita: ela deve estar com a **acentuação e espaçamento corretos**, além de estar **entre aspas**! \n",
    "E não se esqueça de acionar a célula depois de modificar o código ✨"
   ]
  },
  {
   "cell_type": "code",
   "execution_count": null,
   "id": "f567441f",
   "metadata": {},
   "outputs": [],
   "source": [
    "eleicao_municipio = \"São José dos Campos\"   #  <-- Insira o nome do município aqui\n",
    "print(f\"Município escolhido: {eleicao_municipio.upper()}\")"
   ]
  },
  {
   "cell_type": "markdown",
   "id": "opposed-fellowship",
   "metadata": {},
   "source": [
    "## Configurando o ambiente\n",
    "Para conseguirmos de fato realizar a análise dos dados, nossos códigos precisam de uma ajudinha extra, e por isso vamos precisar usar um artifício das linguagens de programação chamado de \"biblioteca\". Basicamente, elas dão super poderes específicos para o nosso código, e é exatamente o que precisamos, então acione a célula abaixo para importar as bibliotecas e configurar nosso ambiente!"
   ]
  },
  {
   "cell_type": "code",
   "execution_count": null,
   "id": "appointed-computer",
   "metadata": {},
   "outputs": [],
   "source": [
    "import pandas as pd\n",
    "low_memory=False\n",
    "import plotly.express as px\n",
    "print('Importações e configurações concluídas ✔️ ')"
   ]
  },
  {
   "cell_type": "markdown",
   "id": "agricultural-rally",
   "metadata": {},
   "source": [
    "## Que dados vamos usar?\n",
    "Para deixar o processo mais rápido, vamos carregar apenas as informações que vamos utilizar. <br>\n",
    "**OBS.:** Se não souber quais informações escolher, não precisa alterar o código, apenas acione a célula!"
   ]
  },
  {
   "cell_type": "code",
   "execution_count": null,
   "id": "eligible-blind",
   "metadata": {},
   "outputs": [],
   "source": [
    "col_eleitorado = [\"ANO_ELEICAO\", \"SG_UF\", \"NM_MUNICIPIO\", \n",
    "                  \"DS_ESTADO_CIVIL\", \"DS_FAIXA_ETARIA\", \"DS_GRAU_ESCOLARIDADE\", \n",
    "                  \"QT_ELEITORES_PERFIL\", \"QT_ELEITORES_INC_NM_SOCIAL\"]\n",
    "\n",
    "col_candidatos = [\"NR_TURNO\", \"NM_UE\", \"DS_CARGO\", \n",
    "                  \"NM_CANDIDATO\", \"SG_PARTIDO\", \n",
    "                  \"DS_SIT_TOT_TURNO\", \"ST_REELEICAO\"]\n",
    "\n",
    "print(\"Dados escolhidos com sucesso ✔️\")"
   ]
  },
  {
   "cell_type": "markdown",
   "id": "alpha-richmond",
   "metadata": {},
   "source": [
    "## Carregando os dados...\n",
    "Os dados que vamos utilizar aqui são obtidos a partir do [TSE - Tribunal Superior Eleitoral](https://www.tse.jus.br/eleicoes/estatisticas/repositorio-de-dados-eleitorais-1/repositorio-de-dados-eleitorais). <br>\n",
    "Esses dados estarão em arquivos no formato <i>.csv</i> e, caso ainda os não tenha na sua máquina, faça o download: <br>\n",
    "\n",
    "**Arquivos do eleitorado:** <br>\n",
    "- [Dados do eleitorado de 2018](https://cdn.tse.jus.br/estatistica/sead/odsele/perfil_eleitorado/perfil_eleitorado_2018.zip)<br>\n",
    "- [Dados do eleitorado de 2020](https://cdn.tse.jus.br/estatistica/sead/odsele/perfil_eleitorado/perfil_eleitorado_2020.zip)<br>\n",
    "\n",
    "**Arquivos dos candidatos:** <br>\n",
    "- [Dados dos candidatos de 2018](https://cdn.tse.jus.br/estatistica/sead/odsele/consulta_cand/consulta_cand_2018.zip)<br>\n",
    "- [Dados dos candidatos de 2020](https://cdn.tse.jus.br/estatistica/sead/odsele/consulta_cand/consulta_cand_2020.zip)<br>\n",
    "\n",
    "**OBS.:** As pastas <b>.zip</b> que foram baixadas precisam ser descompactadas dentro da pasta <b>data</b>, localizada na mesma pasta onde este notebook está armazenado. Se estiver tudo ok, vamos adiante!"
   ]
  },
  {
   "cell_type": "code",
   "execution_count": null,
   "id": "moved-solid",
   "metadata": {},
   "outputs": [],
   "source": [
    "if eleicao_ano == 2018:\n",
    "    filename_eleitorado = r'./data/perfil_eleitorado_2018.csv'\n",
    "    filename_candidatos = r'./data/consulta_cand_2018_BRASIL.csv'\n",
    "    \n",
    "    dfe = pd.read_csv(filename_eleitorado, \n",
    "                 usecols=col_eleitorado,    \n",
    "                 delimiter=';', \n",
    "                 encoding='iso-8859-1',\n",
    "                 error_bad_lines=False)\n",
    "    dfc = pd.read_csv(filename_candidatos, \n",
    "                 usecols=col_candidatos,    \n",
    "                 delimiter=';', \n",
    "                 encoding='iso-8859-1',\n",
    "                 error_bad_lines=False)\n",
    "    print(\"Dados carregados com sucesso ✔️\")\n",
    "\n",
    "elif eleicao_ano == 2020:\n",
    "    filename_eleitorado = r'./data/perfil_eleitorado_2020.csv'\n",
    "    filename_candidatos = r'./data/consulta_cand_2020_SP.csv'\n",
    "    \n",
    "    dfe = pd.read_csv(filename_eleitorado, \n",
    "                 usecols=col_eleitorado, \n",
    "                 delimiter=';', \n",
    "                 encoding='iso-8859-1',\n",
    "                 error_bad_lines=False)\n",
    "    dfc = pd.read_csv(filename_candidatos, \n",
    "                 usecols=col_candidatos,    \n",
    "                 delimiter=';', \n",
    "                 encoding='iso-8859-1',\n",
    "                 error_bad_lines=False)\n",
    "    print(\"Dados carregados com sucesso ✔️\")\n",
    "\n",
    "else:\n",
    "    print(\"Escolha um ano válido! Volte ao início do notebook, altere o ano e rode aquela e esta célula novamente\")"
   ]
  },
  {
   "cell_type": "markdown",
   "id": "religious-coffee",
   "metadata": {},
   "source": [
    "## Filtrando o candidato\n",
    "Na célula abaixo, o programa irá filtrar dentro do <i>.csv</i> que baixamos os candidatos eleitos no ano que você escolheu e guardar nas variáveis correspondentes que serão utilizadas lá na frente para a visualização dos dados."
   ]
  },
  {
   "cell_type": "code",
   "execution_count": null,
   "id": "sharing-damages",
   "metadata": {},
   "outputs": [],
   "source": [
    "if eleicao_ano == 2018:\n",
    "    presidente_candidatos = ( ( dfc.query('NM_UE == \"BRASIL\"') ).query('DS_CARGO == \"PRESIDENTE\"') ).query('DS_SIT_TOT_TURNO == \"ELEITO\"')\n",
    "    governador_candidatos = ( ( dfc.query('NM_UE == \"SÃO PAULO\"') ).query('DS_CARGO == \"GOVERNADOR\"') ).query('DS_SIT_TOT_TURNO == \"ELEITO\"')\n",
    "    print(\"Candidatos eleitos guardados na memória ✔️\")\n",
    "elif eleicao_ano == 2020:\n",
    "    prefeito_candidatos = ( ( dfc.query('NM_UE == \"' + eleicao_municipio.upper() + '\"') ).query('DS_CARGO == \"PREFEITO\"') ).query('DS_SIT_TOT_TURNO == \"ELEITO\"')\n",
    "    print(\"Candidato eleito guardado na memória ✔️\")"
   ]
  },
  {
   "cell_type": "markdown",
   "id": "described-series",
   "metadata": {},
   "source": [
    "## Filtrando o município\n",
    "Agora o programa vai buscar os dados dos eleitores com base no município escolhido anteriormente."
   ]
  },
  {
   "cell_type": "code",
   "execution_count": null,
   "id": "demonstrated-diary",
   "metadata": {},
   "outputs": [],
   "source": [
    "municipio_eleitores = dfe.query('NM_MUNICIPIO == \"' + eleicao_municipio.upper() + '\"')\n",
    "print(f'Dados dos eleitores de {eleicao_municipio} carregados ✔️')"
   ]
  },
  {
   "cell_type": "markdown",
   "id": "piano-letters",
   "metadata": {},
   "source": [
    "## Os dados\n",
    "Só pra ter uma ideia de quais são os dados que o TSE disponibilizou do município que vamos analisar, veja uma pequena amostra na tabela abaixo. Lembrando que a descrição e significado de cada variável do cabeçalho pode ser encontrada neste arquivo: [leiame.pdf](https://drive.google.com/file/d/1NoDVa7BMaPAfybyJdqCtT9MvrKj1TD1L/view)."
   ]
  },
  {
   "cell_type": "code",
   "execution_count": null,
   "id": "devoted-scholarship",
   "metadata": {
    "scrolled": false
   },
   "outputs": [],
   "source": [
    "municipio_eleitores.sample(10)"
   ]
  },
  {
   "cell_type": "markdown",
   "id": "existing-humanitarian",
   "metadata": {},
   "source": [
    "## Visualização dos dados\n",
    "Agora sim, depois de configurar o ambiente, as variáveis e fazer todas as escolhas, podemos nos divertir gerando gráficos com os dados que foram filtrados."
   ]
  },
  {
   "cell_type": "markdown",
   "id": "2d8bbc1f",
   "metadata": {},
   "source": [
    "### Candidato eleito\n",
    "Acionando a célula abaixo vamos descobrir o(s) candidato(s) eleito(s) e para quais cargos no ano que escolhemos, além de informações adicionais como o partido (entre parênteses) e o turno em que foi eleito!"
   ]
  },
  {
   "cell_type": "code",
   "execution_count": null,
   "id": "charming-small",
   "metadata": {},
   "outputs": [],
   "source": [
    "if eleicao_ano == 2018:\n",
    "    presidente_eleito = presidente_candidatos['NM_CANDIDATO'].iloc[0]\n",
    "    presidente_eleito_partido = presidente_candidatos['SG_PARTIDO'].iloc[0]\n",
    "    presidente_eleito_turno = presidente_candidatos['NR_TURNO'].iloc[0]\n",
    "    \n",
    "    governador_eleito = governador_candidatos['NM_CANDIDATO'].iloc[0]\n",
    "    governador_eleito_partido = governador_candidatos['SG_PARTIDO'].iloc[0]\n",
    "    governador_eleito_turno = governador_candidatos['NR_TURNO'].iloc[0]\n",
    "    \n",
    "    print(f\"Em 2018, foi eleito para Presidente da República o candidato {presidente_eleito} ({presidente_eleito_partido}), no {presidente_eleito_turno}º turno das eleições.\")\n",
    "    print(f\"Neste mesmo ano, foi eleito para Governador do Estado de SP o candidato {governador_eleito} ({governador_eleito_partido}), no {governador_eleito_turno}º turno das eleições.\")\n",
    "\n",
    "elif eleicao_ano == 2020:\n",
    "    prefeito_eleito = prefeito_candidatos['NM_CANDIDATO'].iloc[0]\n",
    "    prefeito_eleito_partido = prefeito_candidatos['SG_PARTIDO'].iloc[0]\n",
    "    prefeito_eleito_turno = prefeito_candidatos['NR_TURNO'].iloc[0]\n",
    "    \n",
    "    print(f\"Em 2020, foi eleito para prefeito da cidade de {eleicao_municipio} o candidato {prefeito_eleito}, do partido {prefeito_eleito_partido}, no {prefeito_eleito_turno}º turno.\")"
   ]
  },
  {
   "cell_type": "markdown",
   "id": "preceding-estate",
   "metadata": {},
   "source": [
    "### Grau de Escolaridade\n",
    "Da mesma forma, acionando a próxima célula, vamos poder observar um gráfico que corresponde à percentagem de eleitores que tem determinado grau de escolaridade. <br>\n",
    "**OBS.:** O gráfico é interativo, passando o mouse por cima é possível obter mais informações!"
   ]
  },
  {
   "cell_type": "code",
   "execution_count": null,
   "id": "68586adb",
   "metadata": {
    "scrolled": false
   },
   "outputs": [],
   "source": [
    "total_eleitores_escolaridade = municipio_eleitores.groupby('DS_GRAU_ESCOLARIDADE')['QT_ELEITORES_PERFIL'].sum()\n",
    "fig=px.bar(total_eleitores_escolaridade, x= total_eleitores_escolaridade.index, y=total_eleitores_escolaridade.values,\n",
    "          title=\"GRAU DE ESCOLARIDADE DO ELEITORADO - \" + eleicao_municipio.upper() + \" / \" + str(eleicao_ano), \n",
    "          labels={'y':'Eleitores', 'DS_GRAU_ESCOLARIDADE':'Escolaridade'})\n",
    "\n",
    "fig.show()"
   ]
  },
  {
   "cell_type": "markdown",
   "id": "distant-amount",
   "metadata": {},
   "source": [
    "### Estado Civil\n",
    "Com o código abaixo, o gráfico gerado irá ilustrar a quantidade de pessoas de acordo com seu estado civil:"
   ]
  },
  {
   "cell_type": "code",
   "execution_count": null,
   "id": "straight-influence",
   "metadata": {},
   "outputs": [],
   "source": [
    "total_eleitores_estadocivil = municipio_eleitores.groupby('DS_ESTADO_CIVIL')['QT_ELEITORES_PERFIL'].sum().sort_values(ascending=False)\n",
    "fig=px.bar(total_eleitores_estadocivil, x= total_eleitores_estadocivil.index, y=total_eleitores_estadocivil.values,\n",
    "          title=\"ESTADO CIVIL DO ELEITORADO - \" + eleicao_municipio.upper() + \" / \" + str(eleicao_ano), \n",
    "          labels={'y':'Eleitores', 'DS_ESTADO_CIVIL':'Estado Civil'})\n",
    "\n",
    "fig.show()"
   ]
  },
  {
   "cell_type": "markdown",
   "id": "bulgarian-nashville",
   "metadata": {},
   "source": [
    "### Faixa Etária\n",
    "Para faixa etária, observamos um gráfico que relaciona a quantidade de pessoas com o intervalo de idade que elas se encaixam:"
   ]
  },
  {
   "cell_type": "code",
   "execution_count": null,
   "id": "unlike-transmission",
   "metadata": {},
   "outputs": [],
   "source": [
    "total_eleitores_faixaetaria = municipio_eleitores.groupby('DS_FAIXA_ETARIA')['QT_ELEITORES_PERFIL'].sum()\n",
    "fig=px.bar(total_eleitores_faixaetaria, x= total_eleitores_faixaetaria.index, y=total_eleitores_faixaetaria.values,\n",
    "          title='FAIXA ETÁRIA DO ELEITORADO - ' + eleicao_municipio.upper() + \" / \" + str(eleicao_ano), \n",
    "          labels={'y':'Eleitores', 'DS_FAIXA_ETARIA':'Faixa Etária'})\n",
    "\n",
    "fig.show()"
   ]
  },
  {
   "cell_type": "markdown",
   "id": "impressive-frontier",
   "metadata": {},
   "source": [
    "### Quantidade de eleitores inscritos com nome social\n",
    "Abaixo podemos ver quantas pessoas declararam o uso de nome social no município todo:"
   ]
  },
  {
   "cell_type": "code",
   "execution_count": null,
   "id": "fancy-appliance",
   "metadata": {},
   "outputs": [],
   "source": [
    "total_eleitores_nomesocial = 0 # Iniciando a variável\n",
    "df_nomesocial = municipio_eleitores.groupby('QT_ELEITORES_INC_NM_SOCIAL')['QT_ELEITORES_INC_NM_SOCIAL'].sum()\n",
    "\n",
    "# Somando a quantidade de eleitores com nome social em cada grupo\n",
    "for index_nomesocial in range(len(df_nomesocial)):\n",
    "    total_eleitores_nomesocial += df_nomesocial.index[index_nomesocial] * df_nomesocial.values[index_nomesocial]\n",
    "\n",
    "# Exibindo resultado na tela\n",
    "if total_eleitores_nomesocial > 1:\n",
    "    print(f\"Em {eleicao_municipio}, foram inscritos {total_eleitores_nomesocial} eleitores com nome social.\")\n",
    "elif total_eleitores_nomesocial == 1:\n",
    "    print(f\"Em {eleicao_municipio}, foi inscrito {total_eleitores_nomesocial} eleitor com nome social.\")\n",
    "else:\n",
    "    print(f\"Em {eleicao_municipio}, não foi inscrito nenhum eleitor com nome social.\")"
   ]
  },
  {
   "cell_type": "markdown",
   "id": "3ac93a78",
   "metadata": {},
   "source": [
    "## E agora?\n",
    "Bom, esses foram os dados que pudemos analisar, e agora que já sabe o que pode fazer e como fazer, fique a vontade para analisar os dados de outros municípios e anos, mas claro, que estejam dentro do nosso alcance. Para isso, consulte as tabelas e listas que estão no começo nesse notebook ✨"
   ]
  }
 ],
 "metadata": {
  "kernelspec": {
   "display_name": "Python 3",
   "language": "python",
   "name": "python3"
  },
  "language_info": {
   "codemirror_mode": {
    "name": "ipython",
    "version": 3
   },
   "file_extension": ".py",
   "mimetype": "text/x-python",
   "name": "python",
   "nbconvert_exporter": "python",
   "pygments_lexer": "ipython3",
   "version": "3.9.4"
  },
  "metadata": {
   "interpreter": {
    "hash": "3dc0479a26bfc3de57c89f0be4a88c8b7a98ea05808b9137958c7597151477d5"
   }
  }
 },
 "nbformat": 4,
 "nbformat_minor": 5
}
