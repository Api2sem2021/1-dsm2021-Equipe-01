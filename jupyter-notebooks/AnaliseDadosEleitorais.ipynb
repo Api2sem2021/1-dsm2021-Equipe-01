{
 "cells": [
  {
   "cell_type": "markdown",
   "id": "medieval-label",
   "metadata": {},
   "source": [
    "<h1 align=\"center\">Análise de Dados Eleitorais</h1>\n",
    "______________________________________________________________________________________________________________________________\n",
    "\n",
    "## Introdução\n",
    "Bem vindo(a) ao nosso Jupyter Notebook! É ele quem vai nos auxiliar na análise de dados eleitorais, com foco particularmente no perfil do eleitorado de diversos municípios da cobertura da [TV Vanguarda](http://vanguarda.tv/). Mas... Antes de colocarmos a mão na massa, é preciso definir alguns conceitos, como por exemplo o que é e como funciona o Jupyter Notebook, além do mais importante, como usar. \n",
    "<br>\n",
    "- Primeiramente, o Jupyter Notebook é uma aplicação web que gera o ambiente em que estamos, possibilitando usar linguagem Markdown, que gera textos como este que você está lendo agora, e ao mesmo tempo permite o acionamento de células específicas com códigos de diversas linguagens de programação. A usada neste projeto foi o Python!\n",
    "  - Para experimentar o acionamento das células, dê um clique para selecioná-la, e então, no menu do Jupyter aperte o botão \"▶️ <b>Run</b>\" ou simplesmente aperte <b>Shift + Enter</b>. Tente com essa célula:"
   ]
  },
  {
   "cell_type": "code",
   "execution_count": 103,
   "id": "f5af0748",
   "metadata": {},
   "outputs": [
    {
     "output_type": "stream",
     "name": "stdout",
     "text": [
      "É isso aí! Você acabou de acionar uma célula, parabéns ✨ \n"
     ]
    }
   ],
   "source": [
    "print(\"É isso aí! Você acabou de acionar uma célula, parabéns ✨ \")"
   ]
  },
  {
   "cell_type": "markdown",
   "id": "1c117797",
   "metadata": {},
   "source": [
    "Agora que sabemos que exitem tipos de células diferentes e que podemos acioná-las para ver o resultado dos códigos, podemos continuar. \n",
    "<br>\n",
    "Neste Jupyter Notebook temos a análise de características específicas do eleitorado, não de todas. Por isso, aqui vai uma tabela demonstrando que tipos de estatísticas você pode se deparar: \n",
    "\n",
    "CARACTERÍSTICA     | TIPO                                           |\n",
    ":------------------|:-----------------------------------------------|\n",
    "Escolaridade       | Quantidade de pessoas por grau de escolaridade |\n",
    "Estado Civil       | Quantidade de pessoas por estado civil         |\n",
    "Faixa Etária       | Quantidade de pessoas por faixa de idade       |\n",
    "Uso de nome social | Quantidade de pessoas por município            |\n",
    "\n",
    "Certo, agora que estamos cientes do que podemos analisar em relação ao eleitorado, precisamos definir algumas coisas...\n",
    "\n",
    "## Qual ano eleitoral escolher?\n",
    "Por enquanto, temos à disposição os dados das eleições de 2018 e 2020, mas antes de escolher um ano, veja as características das eleições que ocorreram nestes anos:\n",
    "\n",
    "ANO  | TIPO DE ELEIÇÃO    | CARGOS                  |\n",
    ":----|:-------------------|:------------------------|\n",
    "2018 | Federal e Estadual | Presidente e Governador |\n",
    "2020 | Municipal          | Prefeito                |\n",
    "\n",
    "Abaixo temos uma variável chamada `eleicao_ano`, ela que irá se lembrar do ano que você escolheu! Se quiser, pode alterar '2018' por '2020', por exemplo <br>\n",
    "**OBS.:** Não se esqueça de acionar a célula depois, só assim o programa é executado!"
   ]
  },
  {
   "cell_type": "code",
   "execution_count": 104,
   "id": "fluid-reservoir",
   "metadata": {
    "scrolled": false
   },
   "outputs": [
    {
     "output_type": "stream",
     "name": "stdout",
     "text": [
      "Ano escolhido: 2018\n"
     ]
    }
   ],
   "source": [
    "eleicao_ano = 2018     #  <-- Insira o ano da eleição aqui\n",
    "print(f\"Ano escolhido: {eleicao_ano}\")"
   ]
  },
  {
   "cell_type": "markdown",
   "id": "a616d739",
   "metadata": {},
   "source": [
    "## Lista de municípios\n",
    "Caso você se oriente por macro regiões para escolher um município, confira a lista abaixo, ela vai te ajudar!<br>\n",
    "**OBS.:** Clique nas setas \"▶\" para expandir a respectivas listas: <br> <br>\n",
    "\n",
    "<details>\n",
    "    <summary><b>▶ Vale do Paraíba</b></summary>\n",
    "        • APARECIDA <br>\n",
    "        • CAÇAPAVA <br>\n",
    "        • CACHOEIRA PAULISTA <br>\n",
    "        • CANAS <br>\n",
    "        • CUNHA <br>\n",
    "        • GUARATINGUETÁ <br>\n",
    "        • IGARATÁ <br>\n",
    "        • JACAREÍ <br>\n",
    "        • JAMBEIRO <br>\n",
    "        • LAGOINHA <br>\n",
    "        • LORENA <br>\n",
    "        • NATIVIDADE DA SERRA <br>\n",
    "        • PARAIBUNA <br>\n",
    "        • PINDAMONHANGABA <br>\n",
    "        • PIQUETE <br>\n",
    "        • POTIM <br>\n",
    "        • REDENÇÃO DA SERRA <br>\n",
    "        • ROSEIRA <br>\n",
    "        • SANTA BRANCA <br>\n",
    "        • SÃO JOSÉ DOS CAMPOS <br>\n",
    "        • SÃO LUÍS DO PARAITINGA <br>\n",
    "        • TAUBATÉ <br>\n",
    "        • TREMEMBÉ <br> <br>\n",
    "</details>\n",
    "\n",
    "<details>\n",
    "    <summary><b>▶ Vale Histórico</b></summary>\n",
    "        • ARAPEÍ <br>\n",
    "        • AREIAS <br>\n",
    "        • BANANAL <br>\n",
    "        • CRUZEIRO <br>\n",
    "        • LAVRINHAS <br>\n",
    "        • QUELUZ <br>\n",
    "        • SÃO JOSÉ DO BARREIRO <br>\n",
    "        • SILVEIRAS <br> <br>\n",
    "</details>\n",
    "    \n",
    "<details>\n",
    "    <summary><b>▶ Litoral Norte</b></summary>\n",
    "        • CARAGUATATUBA <br>\n",
    "        • ILHABELA <br>\n",
    "        • SÃO SEBASTIÃO <br>\n",
    "        • UBATUBA <br> <br>\n",
    "</details>    \n",
    "    \n",
    "<details>\n",
    "    <summary><b>▶ Serra da Mantiqueira</b></summary>\n",
    "        • CAMPOS DO JORDÃO <br>\n",
    "        • MONTEIRO LOBATO <br>\n",
    "        • SANTO ANTÔNIO DO PINHAL <br>\n",
    "        • SÃO BENTO DO SAPUCAÍ <br> <br>\n",
    "</details>\n",
    "    \n",
    "<details>\n",
    "    <summary><b>▶ Região Bragantina</b></summary>\n",
    "        • ATIBAIA <br>\n",
    "        • BOM JESUS DOS PERDÕES <br>\n",
    "        • BRAGANÇA PAULISTA <br>\n",
    "        • JOANÓPOLIS <br>\n",
    "        • NAZARÉ PAULISTA <br>\n",
    "        • PIRACAIA <br>\n",
    "        • VARGEM <br> <br>\n",
    "</details>\n",
    "\n",
    "Agora temos uma variável chamada `eleicao_municipio`, ela guardará o nome do município que você escolheu. Mas tome cuidado com a escrita: ela deve estar com a **acentuação e espaçamento corretos**, além de estar **entre aspas**! \n",
    "E não se esqueça de acionar a célula depois de modificar o código ✨"
   ]
  },
  {
   "cell_type": "code",
   "execution_count": 105,
   "id": "f567441f",
   "metadata": {},
   "outputs": [
    {
     "output_type": "stream",
     "name": "stdout",
     "text": [
      "Município escolhido: SÃO JOSÉ DOS CAMPOS\n"
     ]
    }
   ],
   "source": [
    "eleicao_municipio = \"São José dos Campos\"     #  <-- Insira o nome do município aqui\n",
    "print(f\"Município escolhido: {eleicao_municipio.upper()}\")"
   ]
  },
  {
   "cell_type": "markdown",
   "id": "opposed-fellowship",
   "metadata": {},
   "source": [
    "## Configurando o ambiente\n",
    "Para conseguirmos de fato realizar a análise dos dados, nossos códigos precisam de uma ajudinha extra, e por isso vamos precisar usar um artifício das linguagens de programação chamado de \"biblioteca\". Basicamente, elas dão super poderes específicos para o nosso código, e é exatamente o que precisamos, então acione a célula abaixo para importar as bibliotecas e configurar nosso ambiente!"
   ]
  },
  {
   "cell_type": "code",
   "execution_count": 106,
   "id": "appointed-computer",
   "metadata": {},
   "outputs": [
    {
     "output_type": "stream",
     "name": "stdout",
     "text": [
      "Importações e configurações concluídas ✔️ \n"
     ]
    }
   ],
   "source": [
    "import pandas as pd\n",
    "low_memory=False\n",
    "import plotly.express as px\n",
    "import plotly.graph_objects as go\n",
    "print(\"Importações e configurações concluídas ✔️ \")"
   ]
  },
  {
   "cell_type": "markdown",
   "id": "agricultural-rally",
   "metadata": {},
   "source": [
    "## Que dados vamos usar?\n",
    "Para deixar o processo mais rápido, vamos carregar apenas as informações que vamos utilizar. <br>\n",
    "**OBS.:** Se não souber quais informações escolher, não precisa alterar o código, apenas acione a célula!"
   ]
  },
  {
   "cell_type": "code",
   "execution_count": 107,
   "id": "eligible-blind",
   "metadata": {},
   "outputs": [
    {
     "output_type": "stream",
     "name": "stdout",
     "text": [
      "Dados escolhidos com sucesso ✔️\n"
     ]
    }
   ],
   "source": [
    "col_eleitorado = [\"ANO_ELEICAO\", \"SG_UF\", \"NM_MUNICIPIO\", \n",
    "                  \"DS_ESTADO_CIVIL\", \"CD_FAIXA_ETARIA\", \"DS_FAIXA_ETARIA\",\n",
    "                  \"CD_GRAU_ESCOLARIDADE\", \"DS_GRAU_ESCOLARIDADE\", \"QT_ELEITORES_PERFIL\", \n",
    "                  \"QT_ELEITORES_INC_NM_SOCIAL\"]\n",
    "\n",
    "col_abstencao = [\"NR_TURNO\", \"NM_MUNICIPIO\", \n",
    "                 \"QT_APTOS\", \"QT_COMPARECIMENTO\", \"QT_ABSTENCAO\"]\n",
    "\n",
    "col_candidatos = [\"NR_TURNO\", \"NM_UE\", \"DS_CARGO\", \n",
    "                  \"NM_CANDIDATO\", \"SG_PARTIDO\", \n",
    "                  \"DS_SIT_TOT_TURNO\", \"ST_REELEICAO\"]\n",
    "\n",
    "print(\"Dados escolhidos com sucesso ✔️\")"
   ]
  },
  {
   "cell_type": "markdown",
   "id": "alpha-richmond",
   "metadata": {},
   "source": [
    "## Carregando os dados...\n",
    "Os dados que vamos utilizar aqui são obtidos a partir do [TSE - Tribunal Superior Eleitoral](https://www.tse.jus.br/eleicoes/estatisticas/repositorio-de-dados-eleitorais-1/repositorio-de-dados-eleitorais). <br>\n",
    "Esses dados estão em arquivos no formato <i>.csv</i> e estão disponíveis na pasta <b>\\data</b>, num primeiro momento compactados como arquivos <i>.zip</i>.<br>\n",
    "A pasta <b>\\data</b> está localizada no mesmo diretório onde o arquivo deste notebook está armazenado.\n",
    "\n",
    "**Arquivos do eleitorado:**\n",
    "- perfil_eleitorado_2018.csv\n",
    "- perfil_eleitorado_2020.csv\n",
    "\n",
    "**Arquivos sobre comparecimento e abstenção dos eleitores:**\n",
    "- perfil_comparecimento_abstencao_2018.csv\n",
    "- perfil_comparecimento_abstencao_2020.csv\n",
    "\n",
    "**Arquivos dos candidatos:**\n",
    "- consulta_cand_2018_BRASIL.csv\n",
    "- consulta_cand_2020_SP.csv\n",
    "\n",
    "**IMPORTANTE:** Para ter os <i>.csv</i> mencionados disponíveis, você precisa ter todos os arquivos <i>.zip</i> descompactados dentro da pasta <b>\\data</b> antes de seguir os próximos passos. \n",
    "\n",
    "O carregamento completo dos dados pode levar alguns segundos... quando estiver tudo ok, vamos adiante!"
   ]
  },
  {
   "cell_type": "code",
   "execution_count": 108,
   "id": "moved-solid",
   "metadata": {},
   "outputs": [
    {
     "output_type": "stream",
     "name": "stdout",
     "text": [
      "Dados carregados com sucesso ✔️\n"
     ]
    }
   ],
   "source": [
    "if eleicao_ano == 2018:\n",
    "    filename_eleitorado = r'./data/perfil_eleitorado_2018.csv'\n",
    "    filename_abstencao = r'./data/perfil_comparecimento_abstencao_2018.csv'\n",
    "    filename_candidatos = r'./data/consulta_cand_2018_BRASIL.csv'\n",
    "\n",
    "elif eleicao_ano == 2020:\n",
    "    filename_eleitorado = r'./data/perfil_eleitorado_2020.csv'\n",
    "    filename_abstencao = r'./data/perfil_comparecimento_abstencao_2020.csv'\n",
    "    filename_candidatos = r'./data/consulta_cand_2020_SP.csv'\n",
    "\n",
    "else:\n",
    "    print(\"Escolha um ano válido! Volte ao início do notebook, altere o ano e rode aquela e esta célula novamente\")\n",
    "    \n",
    "dfe = pd.read_csv(filename_eleitorado, \n",
    "             usecols=col_eleitorado,    \n",
    "             delimiter=';', \n",
    "             encoding='iso-8859-1',\n",
    "             error_bad_lines=False)\n",
    "\n",
    "dfa = pd.read_csv(filename_abstencao, \n",
    "             usecols=col_abstencao,    \n",
    "             delimiter=';', \n",
    "             encoding='iso-8859-1',\n",
    "             error_bad_lines=False)\n",
    "\n",
    "dfc = pd.read_csv(filename_candidatos, \n",
    "             usecols=col_candidatos,    \n",
    "             delimiter=';', \n",
    "             encoding='iso-8859-1',\n",
    "             error_bad_lines=False)\n",
    "\n",
    "print(\"Dados carregados com sucesso ✔️\")"
   ]
  },
  {
   "cell_type": "markdown",
   "id": "religious-coffee",
   "metadata": {},
   "source": [
    "## Filtrando o candidato\n",
    "Na célula abaixo, o programa irá filtrar dentro do <i>.csv</i> que baixamos os candidatos eleitos no ano que você escolheu, e guardar nas variáveis correspondentes que serão utilizadas lá na frente para a visualização dos dados."
   ]
  },
  {
   "cell_type": "code",
   "execution_count": 109,
   "id": "sharing-damages",
   "metadata": {},
   "outputs": [
    {
     "output_type": "stream",
     "name": "stdout",
     "text": [
      "Candidatos eleitos guardados na memória ✔️\n"
     ]
    }
   ],
   "source": [
    "if eleicao_ano == 2018:\n",
    "    presidente_candidatos = ( ( dfc.query('NM_UE == \"BRASIL\"') ).query('DS_CARGO == \"PRESIDENTE\"') ).query('DS_SIT_TOT_TURNO == \"ELEITO\"')\n",
    "    governador_candidatos = ( ( dfc.query('NM_UE == \"SÃO PAULO\"') ).query('DS_CARGO == \"GOVERNADOR\"') ).query('DS_SIT_TOT_TURNO == \"ELEITO\"')\n",
    "    print(\"Candidatos eleitos guardados na memória ✔️\")\n",
    "\n",
    "elif eleicao_ano == 2020:\n",
    "    prefeito_candidatos = ( ( dfc.query('NM_UE == \"' + eleicao_municipio.upper() + '\"') ).query('DS_CARGO == \"PREFEITO\"') ).query('DS_SIT_TOT_TURNO == \"ELEITO\"')\n",
    "    print(\"Candidato eleito guardado na memória ✔️\")"
   ]
  },
  {
   "cell_type": "markdown",
   "id": "described-series",
   "metadata": {},
   "source": [
    "## Filtrando o município\n",
    "Agora o programa vai buscar os dados dos eleitores com base no município escolhido anteriormente."
   ]
  },
  {
   "cell_type": "code",
   "execution_count": 110,
   "id": "demonstrated-diary",
   "metadata": {},
   "outputs": [
    {
     "output_type": "stream",
     "name": "stdout",
     "text": [
      "Dados dos eleitores de São José dos Campos carregados ✔️\n"
     ]
    }
   ],
   "source": [
    "municipio_eleitores = dfe.query('NM_MUNICIPIO == \"' + eleicao_municipio.upper() + '\"')\n",
    "print(f\"Dados dos eleitores de {eleicao_municipio} carregados ✔️\")"
   ]
  },
  {
   "cell_type": "markdown",
   "id": "insured-intro",
   "metadata": {},
   "source": [
    "## Identificando comparecimento e abstenção de eleitores\n",
    "Aqui, vamos carregar os dados sobre quantos eleitores compareceram ou faltaram no dia da eleição."
   ]
  },
  {
   "cell_type": "code",
   "execution_count": 111,
   "id": "respiratory-throat",
   "metadata": {},
   "outputs": [
    {
     "output_type": "stream",
     "name": "stdout",
     "text": [
      "Dados sobre comparecimento e abstenção dos eleitores de São José dos Campos carregados ✔️\n"
     ]
    }
   ],
   "source": [
    "abstencao_municipio = dfa.query('NM_MUNICIPIO == \"' + eleicao_municipio.upper() + '\"')\n",
    "\n",
    "primeiro_turno_data = abstencao_municipio.query('NR_TURNO == 1')\n",
    "comparecimento_primeiro_turno = primeiro_turno_data.QT_COMPARECIMENTO.sum()\n",
    "abstencao_primeiro_turno = primeiro_turno_data.QT_ABSTENCAO.sum()\n",
    "\n",
    "segundo_turno_data = abstencao_municipio.query('NR_TURNO == 2')\n",
    "comparecimento_segundo_turno = segundo_turno_data.QT_COMPARECIMENTO.sum()\n",
    "abstencao_segundo_turno = segundo_turno_data.QT_ABSTENCAO.sum()\n",
    "\n",
    "print(f\"Dados sobre comparecimento e abstenção dos eleitores de {eleicao_municipio} carregados ✔️\")\n",
    "\n",
    "if comparecimento_segundo_turno == 0:\n",
    "    print(f\"obs: Não houve segundo turno na cidade de {eleicao_municipio} nas eleições de {eleicao_ano}.\")"
   ]
  },
  {
   "cell_type": "markdown",
   "id": "piano-letters",
   "metadata": {},
   "source": [
    "## Os dados\n",
    "Para ter uma ideia de quais dados o TSE disponibilizou sobre o eleitorado do município que vamos analisar, veja uma pequena amostra na tabela abaixo. Lembrando que a descrição e significado de cada variável do cabeçalho pode ser encontrada neste arquivo: [leiame.pdf](https://drive.google.com/file/d/1NoDVa7BMaPAfybyJdqCtT9MvrKj1TD1L/view)."
   ]
  },
  {
   "cell_type": "code",
   "execution_count": 112,
   "id": "devoted-scholarship",
   "metadata": {
    "scrolled": false
   },
   "outputs": [
    {
     "output_type": "execute_result",
     "data": {
      "text/plain": [
       "         ANO_ELEICAO SG_UF         NM_MUNICIPIO         DS_ESTADO_CIVIL  \\\n",
       "3145593         2018    SP  SÃO JOSÉ DOS CAMPOS              DIVORCIADO   \n",
       "414662          2018    SP  SÃO JOSÉ DOS CAMPOS  SEPARADO JUDICIALMENTE   \n",
       "1778514         2018    SP  SÃO JOSÉ DOS CAMPOS                   VIÚVO   \n",
       "416152          2018    SP  SÃO JOSÉ DOS CAMPOS                  CASADO   \n",
       "419088          2018    SP  SÃO JOSÉ DOS CAMPOS                  CASADO   \n",
       "1619689         2018    SP  SÃO JOSÉ DOS CAMPOS  SEPARADO JUDICIALMENTE   \n",
       "413283          2018    SP  SÃO JOSÉ DOS CAMPOS                   VIÚVO   \n",
       "3048848         2018    SP  SÃO JOSÉ DOS CAMPOS                   VIÚVO   \n",
       "2332450         2018    SP  SÃO JOSÉ DOS CAMPOS                SOLTEIRO   \n",
       "1619736         2018    SP  SÃO JOSÉ DOS CAMPOS                  CASADO   \n",
       "\n",
       "         CD_FAIXA_ETARIA                 DS_FAIXA_ETARIA  \\\n",
       "3145593             5054  50 a 54 anos                     \n",
       "414662              7579  75 a 79 anos                     \n",
       "1778514             5054  50 a 54 anos                     \n",
       "416152              7074  70 a 74 anos                     \n",
       "419088              6569  65 a 69 anos                     \n",
       "1619689             5054  50 a 54 anos                     \n",
       "413283              7074  70 a 74 anos                     \n",
       "3048848             4044  40 a 44 anos                     \n",
       "2332450             5559  55 a 59 anos                     \n",
       "1619736             7579  75 a 79 anos                     \n",
       "\n",
       "         CD_GRAU_ESCOLARIDADE           DS_GRAU_ESCOLARIDADE  \\\n",
       "3145593                     8              SUPERIOR COMPLETO   \n",
       "414662                      4    ENSINO FUNDAMENTAL COMPLETO   \n",
       "1778514                     4    ENSINO FUNDAMENTAL COMPLETO   \n",
       "416152                      8              SUPERIOR COMPLETO   \n",
       "419088                      3  ENSINO FUNDAMENTAL INCOMPLETO   \n",
       "1619689                     3  ENSINO FUNDAMENTAL INCOMPLETO   \n",
       "413283                      4    ENSINO FUNDAMENTAL COMPLETO   \n",
       "3048848                     6          ENSINO MÉDIO COMPLETO   \n",
       "2332450                     2                   LÊ E ESCREVE   \n",
       "1619736                     6          ENSINO MÉDIO COMPLETO   \n",
       "\n",
       "         QT_ELEITORES_PERFIL  QT_ELEITORES_INC_NM_SOCIAL  \n",
       "3145593                   14                           0  \n",
       "414662                     6                           0  \n",
       "1778514                    1                           0  \n",
       "416152                    40                           0  \n",
       "419088                   947                           0  \n",
       "1619689                   32                           0  \n",
       "413283                     5                           0  \n",
       "3048848                    2                           0  \n",
       "2332450                   76                           0  \n",
       "1619736                   61                           0  "
      ],
      "text/html": "<div>\n<style scoped>\n    .dataframe tbody tr th:only-of-type {\n        vertical-align: middle;\n    }\n\n    .dataframe tbody tr th {\n        vertical-align: top;\n    }\n\n    .dataframe thead th {\n        text-align: right;\n    }\n</style>\n<table border=\"1\" class=\"dataframe\">\n  <thead>\n    <tr style=\"text-align: right;\">\n      <th></th>\n      <th>ANO_ELEICAO</th>\n      <th>SG_UF</th>\n      <th>NM_MUNICIPIO</th>\n      <th>DS_ESTADO_CIVIL</th>\n      <th>CD_FAIXA_ETARIA</th>\n      <th>DS_FAIXA_ETARIA</th>\n      <th>CD_GRAU_ESCOLARIDADE</th>\n      <th>DS_GRAU_ESCOLARIDADE</th>\n      <th>QT_ELEITORES_PERFIL</th>\n      <th>QT_ELEITORES_INC_NM_SOCIAL</th>\n    </tr>\n  </thead>\n  <tbody>\n    <tr>\n      <th>3145593</th>\n      <td>2018</td>\n      <td>SP</td>\n      <td>SÃO JOSÉ DOS CAMPOS</td>\n      <td>DIVORCIADO</td>\n      <td>5054</td>\n      <td>50 a 54 anos</td>\n      <td>8</td>\n      <td>SUPERIOR COMPLETO</td>\n      <td>14</td>\n      <td>0</td>\n    </tr>\n    <tr>\n      <th>414662</th>\n      <td>2018</td>\n      <td>SP</td>\n      <td>SÃO JOSÉ DOS CAMPOS</td>\n      <td>SEPARADO JUDICIALMENTE</td>\n      <td>7579</td>\n      <td>75 a 79 anos</td>\n      <td>4</td>\n      <td>ENSINO FUNDAMENTAL COMPLETO</td>\n      <td>6</td>\n      <td>0</td>\n    </tr>\n    <tr>\n      <th>1778514</th>\n      <td>2018</td>\n      <td>SP</td>\n      <td>SÃO JOSÉ DOS CAMPOS</td>\n      <td>VIÚVO</td>\n      <td>5054</td>\n      <td>50 a 54 anos</td>\n      <td>4</td>\n      <td>ENSINO FUNDAMENTAL COMPLETO</td>\n      <td>1</td>\n      <td>0</td>\n    </tr>\n    <tr>\n      <th>416152</th>\n      <td>2018</td>\n      <td>SP</td>\n      <td>SÃO JOSÉ DOS CAMPOS</td>\n      <td>CASADO</td>\n      <td>7074</td>\n      <td>70 a 74 anos</td>\n      <td>8</td>\n      <td>SUPERIOR COMPLETO</td>\n      <td>40</td>\n      <td>0</td>\n    </tr>\n    <tr>\n      <th>419088</th>\n      <td>2018</td>\n      <td>SP</td>\n      <td>SÃO JOSÉ DOS CAMPOS</td>\n      <td>CASADO</td>\n      <td>6569</td>\n      <td>65 a 69 anos</td>\n      <td>3</td>\n      <td>ENSINO FUNDAMENTAL INCOMPLETO</td>\n      <td>947</td>\n      <td>0</td>\n    </tr>\n    <tr>\n      <th>1619689</th>\n      <td>2018</td>\n      <td>SP</td>\n      <td>SÃO JOSÉ DOS CAMPOS</td>\n      <td>SEPARADO JUDICIALMENTE</td>\n      <td>5054</td>\n      <td>50 a 54 anos</td>\n      <td>3</td>\n      <td>ENSINO FUNDAMENTAL INCOMPLETO</td>\n      <td>32</td>\n      <td>0</td>\n    </tr>\n    <tr>\n      <th>413283</th>\n      <td>2018</td>\n      <td>SP</td>\n      <td>SÃO JOSÉ DOS CAMPOS</td>\n      <td>VIÚVO</td>\n      <td>7074</td>\n      <td>70 a 74 anos</td>\n      <td>4</td>\n      <td>ENSINO FUNDAMENTAL COMPLETO</td>\n      <td>5</td>\n      <td>0</td>\n    </tr>\n    <tr>\n      <th>3048848</th>\n      <td>2018</td>\n      <td>SP</td>\n      <td>SÃO JOSÉ DOS CAMPOS</td>\n      <td>VIÚVO</td>\n      <td>4044</td>\n      <td>40 a 44 anos</td>\n      <td>6</td>\n      <td>ENSINO MÉDIO COMPLETO</td>\n      <td>2</td>\n      <td>0</td>\n    </tr>\n    <tr>\n      <th>2332450</th>\n      <td>2018</td>\n      <td>SP</td>\n      <td>SÃO JOSÉ DOS CAMPOS</td>\n      <td>SOLTEIRO</td>\n      <td>5559</td>\n      <td>55 a 59 anos</td>\n      <td>2</td>\n      <td>LÊ E ESCREVE</td>\n      <td>76</td>\n      <td>0</td>\n    </tr>\n    <tr>\n      <th>1619736</th>\n      <td>2018</td>\n      <td>SP</td>\n      <td>SÃO JOSÉ DOS CAMPOS</td>\n      <td>CASADO</td>\n      <td>7579</td>\n      <td>75 a 79 anos</td>\n      <td>6</td>\n      <td>ENSINO MÉDIO COMPLETO</td>\n      <td>61</td>\n      <td>0</td>\n    </tr>\n  </tbody>\n</table>\n</div>"
     },
     "metadata": {},
     "execution_count": 112
    }
   ],
   "source": [
    "municipio_eleitores.sample(10)"
   ]
  },
  {
   "cell_type": "markdown",
   "id": "existing-humanitarian",
   "metadata": {},
   "source": [
    "## Visualização dos dados\n",
    "Agora sim, depois de configurar o ambiente, as variáveis e fazer todas as escolhas, podemos nos divertir obtendo informações e gerando gráficos com os dados que foram filtrados."
   ]
  },
  {
   "cell_type": "markdown",
   "id": "2d8bbc1f",
   "metadata": {},
   "source": [
    "### Candidato eleito\n",
    "Acionando a célula abaixo vamos descobrir o(s) candidato(s) eleito(s) e para quais cargos no ano que escolhemos, além de informações adicionais como o partido (entre parênteses) e o turno em que foi eleito!"
   ]
  },
  {
   "cell_type": "code",
   "execution_count": 113,
   "id": "charming-small",
   "metadata": {},
   "outputs": [
    {
     "output_type": "stream",
     "name": "stdout",
     "text": [
      "Em 2018, foi eleito para Presidente da República o candidato JAIR MESSIAS BOLSONARO (PSL), no 2º turno das eleições.\n\nNeste mesmo ano, foi eleito para Governador do estado de SP o candidato JOÃO AGRIPINO DA COSTA DORIA JUNIOR (PSDB), no 2º turno das eleições.\n"
     ]
    }
   ],
   "source": [
    "if eleicao_ano == 2018:\n",
    "    presidente_eleito = presidente_candidatos['NM_CANDIDATO'].iloc[0]\n",
    "    presidente_eleito_partido = presidente_candidatos['SG_PARTIDO'].iloc[0]\n",
    "    presidente_eleito_turno = presidente_candidatos['NR_TURNO'].iloc[0]\n",
    "    \n",
    "    governador_eleito = governador_candidatos['NM_CANDIDATO'].iloc[0]\n",
    "    governador_eleito_partido = governador_candidatos['SG_PARTIDO'].iloc[0]\n",
    "    governador_eleito_turno = governador_candidatos['NR_TURNO'].iloc[0]\n",
    "    \n",
    "    print(f\"Em 2018, foi eleito para Presidente da República o candidato {presidente_eleito} ({presidente_eleito_partido}), no {presidente_eleito_turno}º turno das eleições.\\n\")\n",
    "    print(f\"Neste mesmo ano, foi eleito para Governador do estado de SP o candidato {governador_eleito} ({governador_eleito_partido}), no {governador_eleito_turno}º turno das eleições.\")\n",
    "\n",
    "elif eleicao_ano == 2020:\n",
    "    prefeito_eleito = prefeito_candidatos['NM_CANDIDATO'].iloc[0]\n",
    "    prefeito_eleito_partido = prefeito_candidatos['SG_PARTIDO'].iloc[0]\n",
    "    prefeito_eleito_turno = prefeito_candidatos['NR_TURNO'].iloc[0]\n",
    "    \n",
    "    print(f\"Em 2020, foi eleito para prefeito da cidade de {eleicao_municipio} o candidato {prefeito_eleito}, do partido {prefeito_eleito_partido}, no {prefeito_eleito_turno}º turno.\")"
   ]
  },
  {
   "cell_type": "markdown",
   "id": "generous-devices",
   "metadata": {},
   "source": [
    "### Comparecimento às urnas\n",
    "Dos eleitores que estão aptos a votar numa eleição, quantos de fato compareceram às urnas e quantos não foram votar?<br>\n",
    "Acionando a próxima célula, será retornado um gráfico com essa informação para o município e ano que você determinou para análise.\n",
    "\n",
    "**OBS.:** O gráfico é interativo, passando o mouse por cima é possível obter mais informações!"
   ]
  },
  {
   "cell_type": "code",
   "execution_count": 114,
   "id": "distinct-optics",
   "metadata": {},
   "outputs": [
    {
     "output_type": "stream",
     "name": "stdout",
     "text": [
      "Eleitores aptos a votar no primeiro turno: 508693\nEleitores aptos a votar no segundo turno: 508693\n"
     ]
    },
    {
     "output_type": "display_data",
     "data": {
      "application/vnd.plotly.v1+json": {
       "config": {
        "plotlyServerURL": "https://plot.ly"
       },
       "data": [
        {
         "hovertext": [
          "81.0%",
          "19.0%"
         ],
         "name": "Primeiro Turno",
         "type": "bar",
         "x": [
          "Comparecimento",
          "Abstenção"
         ],
         "y": [
          412137,
          96556
         ]
        },
        {
         "hovertext": [
          "80.3%",
          "19.7%"
         ],
         "name": "Segundo Turno",
         "type": "bar",
         "x": [
          "Comparecimento",
          "Abstenção"
         ],
         "y": [
          408316,
          100377
         ]
        }
       ],
       "layout": {
        "barmode": "group",
        "template": {
         "data": {
          "bar": [
           {
            "error_x": {
             "color": "#2a3f5f"
            },
            "error_y": {
             "color": "#2a3f5f"
            },
            "marker": {
             "line": {
              "color": "#E5ECF6",
              "width": 0.5
             }
            },
            "type": "bar"
           }
          ],
          "barpolar": [
           {
            "marker": {
             "line": {
              "color": "#E5ECF6",
              "width": 0.5
             }
            },
            "type": "barpolar"
           }
          ],
          "carpet": [
           {
            "aaxis": {
             "endlinecolor": "#2a3f5f",
             "gridcolor": "white",
             "linecolor": "white",
             "minorgridcolor": "white",
             "startlinecolor": "#2a3f5f"
            },
            "baxis": {
             "endlinecolor": "#2a3f5f",
             "gridcolor": "white",
             "linecolor": "white",
             "minorgridcolor": "white",
             "startlinecolor": "#2a3f5f"
            },
            "type": "carpet"
           }
          ],
          "choropleth": [
           {
            "colorbar": {
             "outlinewidth": 0,
             "ticks": ""
            },
            "type": "choropleth"
           }
          ],
          "contour": [
           {
            "colorbar": {
             "outlinewidth": 0,
             "ticks": ""
            },
            "colorscale": [
             [
              0,
              "#0d0887"
             ],
             [
              0.1111111111111111,
              "#46039f"
             ],
             [
              0.2222222222222222,
              "#7201a8"
             ],
             [
              0.3333333333333333,
              "#9c179e"
             ],
             [
              0.4444444444444444,
              "#bd3786"
             ],
             [
              0.5555555555555556,
              "#d8576b"
             ],
             [
              0.6666666666666666,
              "#ed7953"
             ],
             [
              0.7777777777777778,
              "#fb9f3a"
             ],
             [
              0.8888888888888888,
              "#fdca26"
             ],
             [
              1,
              "#f0f921"
             ]
            ],
            "type": "contour"
           }
          ],
          "contourcarpet": [
           {
            "colorbar": {
             "outlinewidth": 0,
             "ticks": ""
            },
            "type": "contourcarpet"
           }
          ],
          "heatmap": [
           {
            "colorbar": {
             "outlinewidth": 0,
             "ticks": ""
            },
            "colorscale": [
             [
              0,
              "#0d0887"
             ],
             [
              0.1111111111111111,
              "#46039f"
             ],
             [
              0.2222222222222222,
              "#7201a8"
             ],
             [
              0.3333333333333333,
              "#9c179e"
             ],
             [
              0.4444444444444444,
              "#bd3786"
             ],
             [
              0.5555555555555556,
              "#d8576b"
             ],
             [
              0.6666666666666666,
              "#ed7953"
             ],
             [
              0.7777777777777778,
              "#fb9f3a"
             ],
             [
              0.8888888888888888,
              "#fdca26"
             ],
             [
              1,
              "#f0f921"
             ]
            ],
            "type": "heatmap"
           }
          ],
          "heatmapgl": [
           {
            "colorbar": {
             "outlinewidth": 0,
             "ticks": ""
            },
            "colorscale": [
             [
              0,
              "#0d0887"
             ],
             [
              0.1111111111111111,
              "#46039f"
             ],
             [
              0.2222222222222222,
              "#7201a8"
             ],
             [
              0.3333333333333333,
              "#9c179e"
             ],
             [
              0.4444444444444444,
              "#bd3786"
             ],
             [
              0.5555555555555556,
              "#d8576b"
             ],
             [
              0.6666666666666666,
              "#ed7953"
             ],
             [
              0.7777777777777778,
              "#fb9f3a"
             ],
             [
              0.8888888888888888,
              "#fdca26"
             ],
             [
              1,
              "#f0f921"
             ]
            ],
            "type": "heatmapgl"
           }
          ],
          "histogram": [
           {
            "marker": {
             "colorbar": {
              "outlinewidth": 0,
              "ticks": ""
             }
            },
            "type": "histogram"
           }
          ],
          "histogram2d": [
           {
            "colorbar": {
             "outlinewidth": 0,
             "ticks": ""
            },
            "colorscale": [
             [
              0,
              "#0d0887"
             ],
             [
              0.1111111111111111,
              "#46039f"
             ],
             [
              0.2222222222222222,
              "#7201a8"
             ],
             [
              0.3333333333333333,
              "#9c179e"
             ],
             [
              0.4444444444444444,
              "#bd3786"
             ],
             [
              0.5555555555555556,
              "#d8576b"
             ],
             [
              0.6666666666666666,
              "#ed7953"
             ],
             [
              0.7777777777777778,
              "#fb9f3a"
             ],
             [
              0.8888888888888888,
              "#fdca26"
             ],
             [
              1,
              "#f0f921"
             ]
            ],
            "type": "histogram2d"
           }
          ],
          "histogram2dcontour": [
           {
            "colorbar": {
             "outlinewidth": 0,
             "ticks": ""
            },
            "colorscale": [
             [
              0,
              "#0d0887"
             ],
             [
              0.1111111111111111,
              "#46039f"
             ],
             [
              0.2222222222222222,
              "#7201a8"
             ],
             [
              0.3333333333333333,
              "#9c179e"
             ],
             [
              0.4444444444444444,
              "#bd3786"
             ],
             [
              0.5555555555555556,
              "#d8576b"
             ],
             [
              0.6666666666666666,
              "#ed7953"
             ],
             [
              0.7777777777777778,
              "#fb9f3a"
             ],
             [
              0.8888888888888888,
              "#fdca26"
             ],
             [
              1,
              "#f0f921"
             ]
            ],
            "type": "histogram2dcontour"
           }
          ],
          "mesh3d": [
           {
            "colorbar": {
             "outlinewidth": 0,
             "ticks": ""
            },
            "type": "mesh3d"
           }
          ],
          "parcoords": [
           {
            "line": {
             "colorbar": {
              "outlinewidth": 0,
              "ticks": ""
             }
            },
            "type": "parcoords"
           }
          ],
          "pie": [
           {
            "automargin": true,
            "type": "pie"
           }
          ],
          "scatter": [
           {
            "marker": {
             "colorbar": {
              "outlinewidth": 0,
              "ticks": ""
             }
            },
            "type": "scatter"
           }
          ],
          "scatter3d": [
           {
            "line": {
             "colorbar": {
              "outlinewidth": 0,
              "ticks": ""
             }
            },
            "marker": {
             "colorbar": {
              "outlinewidth": 0,
              "ticks": ""
             }
            },
            "type": "scatter3d"
           }
          ],
          "scattercarpet": [
           {
            "marker": {
             "colorbar": {
              "outlinewidth": 0,
              "ticks": ""
             }
            },
            "type": "scattercarpet"
           }
          ],
          "scattergeo": [
           {
            "marker": {
             "colorbar": {
              "outlinewidth": 0,
              "ticks": ""
             }
            },
            "type": "scattergeo"
           }
          ],
          "scattergl": [
           {
            "marker": {
             "colorbar": {
              "outlinewidth": 0,
              "ticks": ""
             }
            },
            "type": "scattergl"
           }
          ],
          "scattermapbox": [
           {
            "marker": {
             "colorbar": {
              "outlinewidth": 0,
              "ticks": ""
             }
            },
            "type": "scattermapbox"
           }
          ],
          "scatterpolar": [
           {
            "marker": {
             "colorbar": {
              "outlinewidth": 0,
              "ticks": ""
             }
            },
            "type": "scatterpolar"
           }
          ],
          "scatterpolargl": [
           {
            "marker": {
             "colorbar": {
              "outlinewidth": 0,
              "ticks": ""
             }
            },
            "type": "scatterpolargl"
           }
          ],
          "scatterternary": [
           {
            "marker": {
             "colorbar": {
              "outlinewidth": 0,
              "ticks": ""
             }
            },
            "type": "scatterternary"
           }
          ],
          "surface": [
           {
            "colorbar": {
             "outlinewidth": 0,
             "ticks": ""
            },
            "colorscale": [
             [
              0,
              "#0d0887"
             ],
             [
              0.1111111111111111,
              "#46039f"
             ],
             [
              0.2222222222222222,
              "#7201a8"
             ],
             [
              0.3333333333333333,
              "#9c179e"
             ],
             [
              0.4444444444444444,
              "#bd3786"
             ],
             [
              0.5555555555555556,
              "#d8576b"
             ],
             [
              0.6666666666666666,
              "#ed7953"
             ],
             [
              0.7777777777777778,
              "#fb9f3a"
             ],
             [
              0.8888888888888888,
              "#fdca26"
             ],
             [
              1,
              "#f0f921"
             ]
            ],
            "type": "surface"
           }
          ],
          "table": [
           {
            "cells": {
             "fill": {
              "color": "#EBF0F8"
             },
             "line": {
              "color": "white"
             }
            },
            "header": {
             "fill": {
              "color": "#C8D4E3"
             },
             "line": {
              "color": "white"
             }
            },
            "type": "table"
           }
          ]
         },
         "layout": {
          "annotationdefaults": {
           "arrowcolor": "#2a3f5f",
           "arrowhead": 0,
           "arrowwidth": 1
          },
          "autotypenumbers": "strict",
          "coloraxis": {
           "colorbar": {
            "outlinewidth": 0,
            "ticks": ""
           }
          },
          "colorscale": {
           "diverging": [
            [
             0,
             "#8e0152"
            ],
            [
             0.1,
             "#c51b7d"
            ],
            [
             0.2,
             "#de77ae"
            ],
            [
             0.3,
             "#f1b6da"
            ],
            [
             0.4,
             "#fde0ef"
            ],
            [
             0.5,
             "#f7f7f7"
            ],
            [
             0.6,
             "#e6f5d0"
            ],
            [
             0.7,
             "#b8e186"
            ],
            [
             0.8,
             "#7fbc41"
            ],
            [
             0.9,
             "#4d9221"
            ],
            [
             1,
             "#276419"
            ]
           ],
           "sequential": [
            [
             0,
             "#0d0887"
            ],
            [
             0.1111111111111111,
             "#46039f"
            ],
            [
             0.2222222222222222,
             "#7201a8"
            ],
            [
             0.3333333333333333,
             "#9c179e"
            ],
            [
             0.4444444444444444,
             "#bd3786"
            ],
            [
             0.5555555555555556,
             "#d8576b"
            ],
            [
             0.6666666666666666,
             "#ed7953"
            ],
            [
             0.7777777777777778,
             "#fb9f3a"
            ],
            [
             0.8888888888888888,
             "#fdca26"
            ],
            [
             1,
             "#f0f921"
            ]
           ],
           "sequentialminus": [
            [
             0,
             "#0d0887"
            ],
            [
             0.1111111111111111,
             "#46039f"
            ],
            [
             0.2222222222222222,
             "#7201a8"
            ],
            [
             0.3333333333333333,
             "#9c179e"
            ],
            [
             0.4444444444444444,
             "#bd3786"
            ],
            [
             0.5555555555555556,
             "#d8576b"
            ],
            [
             0.6666666666666666,
             "#ed7953"
            ],
            [
             0.7777777777777778,
             "#fb9f3a"
            ],
            [
             0.8888888888888888,
             "#fdca26"
            ],
            [
             1,
             "#f0f921"
            ]
           ]
          },
          "colorway": [
           "#636efa",
           "#EF553B",
           "#00cc96",
           "#ab63fa",
           "#FFA15A",
           "#19d3f3",
           "#FF6692",
           "#B6E880",
           "#FF97FF",
           "#FECB52"
          ],
          "font": {
           "color": "#2a3f5f"
          },
          "geo": {
           "bgcolor": "white",
           "lakecolor": "white",
           "landcolor": "#E5ECF6",
           "showlakes": true,
           "showland": true,
           "subunitcolor": "white"
          },
          "hoverlabel": {
           "align": "left"
          },
          "hovermode": "closest",
          "mapbox": {
           "style": "light"
          },
          "paper_bgcolor": "white",
          "plot_bgcolor": "#E5ECF6",
          "polar": {
           "angularaxis": {
            "gridcolor": "white",
            "linecolor": "white",
            "ticks": ""
           },
           "bgcolor": "#E5ECF6",
           "radialaxis": {
            "gridcolor": "white",
            "linecolor": "white",
            "ticks": ""
           }
          },
          "scene": {
           "xaxis": {
            "backgroundcolor": "#E5ECF6",
            "gridcolor": "white",
            "gridwidth": 2,
            "linecolor": "white",
            "showbackground": true,
            "ticks": "",
            "zerolinecolor": "white"
           },
           "yaxis": {
            "backgroundcolor": "#E5ECF6",
            "gridcolor": "white",
            "gridwidth": 2,
            "linecolor": "white",
            "showbackground": true,
            "ticks": "",
            "zerolinecolor": "white"
           },
           "zaxis": {
            "backgroundcolor": "#E5ECF6",
            "gridcolor": "white",
            "gridwidth": 2,
            "linecolor": "white",
            "showbackground": true,
            "ticks": "",
            "zerolinecolor": "white"
           }
          },
          "shapedefaults": {
           "line": {
            "color": "#2a3f5f"
           }
          },
          "ternary": {
           "aaxis": {
            "gridcolor": "white",
            "linecolor": "white",
            "ticks": ""
           },
           "baxis": {
            "gridcolor": "white",
            "linecolor": "white",
            "ticks": ""
           },
           "bgcolor": "#E5ECF6",
           "caxis": {
            "gridcolor": "white",
            "linecolor": "white",
            "ticks": ""
           }
          },
          "title": {
           "x": 0.05
          },
          "xaxis": {
           "automargin": true,
           "gridcolor": "white",
           "linecolor": "white",
           "ticks": "",
           "title": {
            "standoff": 15
           },
           "zerolinecolor": "white",
           "zerolinewidth": 2
          },
          "yaxis": {
           "automargin": true,
           "gridcolor": "white",
           "linecolor": "white",
           "ticks": "",
           "title": {
            "standoff": 15
           },
           "zerolinecolor": "white",
           "zerolinewidth": 2
          }
         }
        },
        "title": {
         "text": "COMPARECIMENTO ÀS URNAS - SÃO JOSÉ DOS CAMPOS / 2018"
        }
       }
      }
     },
     "metadata": {}
    }
   ],
   "source": [
    "# Calculando os valores do primeiro turno\n",
    "total_eleitores_primeiro_turno = comparecimento_primeiro_turno + abstencao_primeiro_turno\n",
    "comparecimento_primeiro_turno_pct = comparecimento_primeiro_turno / total_eleitores_primeiro_turno\n",
    "abstencao_primeiro_turno_pct = abstencao_primeiro_turno / total_eleitores_primeiro_turno\n",
    "\n",
    "if comparecimento_segundo_turno == 0:\n",
    "    # Avisando que só teve o primeiro turno\n",
    "    print(f'Houve apenas o primeiro turno, com um total de {total_eleitores_primeiro_turno} eleitores aptos a votar.')\n",
    "\n",
    "    # Gerando gráfico caso tenha tido apenas o primeiro turno\n",
    "    labels=['Comparecimento', 'Abstenção']\n",
    "    fig = go.Figure([go.Bar(\n",
    "        x=labels, \n",
    "        y=[comparecimento_primeiro_turno, abstencao_primeiro_turno], \n",
    "        hovertext=[f'{comparecimento_primeiro_turno_pct*100:.1f}%', f'{abstencao_primeiro_turno_pct*100:.1f}%'])])\n",
    "    fig.update_layout(title=\"COMPARECIMENTO ÀS URNAS - \" + eleicao_municipio.upper() + \" / \" + str(eleicao_ano))\n",
    "    fig.show()\n",
    "    \n",
    "elif comparecimento_segundo_turno > 0:\n",
    "    # Calculando os valores do segundo turno\n",
    "    total_eleitores_segundo_turno = comparecimento_segundo_turno + abstencao_segundo_turno\n",
    "    comparecimento_segundo_turno_pct = comparecimento_segundo_turno / total_eleitores_segundo_turno\n",
    "    abstencao_segundo_turno_pct = abstencao_segundo_turno / total_eleitores_segundo_turno\n",
    "\n",
    "    # Avisando total de eleitores aptos a votar em cada turno\n",
    "    print(f'Eleitores aptos a votar no primeiro turno: {total_eleitores_primeiro_turno}')\n",
    "    print(f'Eleitores aptos a votar no segundo turno: {total_eleitores_segundo_turno}')\n",
    "\n",
    "    # Gerando o gráfico caso tenha tido segundo turno\n",
    "    labels=['Comparecimento', 'Abstenção']\n",
    "    fig = go.Figure(data=[\n",
    "        go.Bar(\n",
    "            name='Primeiro Turno', \n",
    "            x=labels, \n",
    "            y=[comparecimento_primeiro_turno, abstencao_primeiro_turno], \n",
    "            hovertext=[f'{comparecimento_primeiro_turno_pct*100:.1f}%', f'{abstencao_primeiro_turno_pct*100:.1f}%']),\n",
    "        go.Bar(\n",
    "            name='Segundo Turno', \n",
    "            x=labels, \n",
    "            y=[comparecimento_segundo_turno, abstencao_segundo_turno], \n",
    "            hovertext=[f'{comparecimento_segundo_turno_pct*100:.1f}%', f'{abstencao_segundo_turno_pct*100:.1f}%'])\n",
    "    ])\n",
    "    fig.update_layout(title=\"COMPARECIMENTO ÀS URNAS - \" + eleicao_municipio.upper() + \" / \" + str(eleicao_ano),\n",
    "        barmode='group')\n",
    "    fig.show()"
   ]
  },
  {
   "cell_type": "markdown",
   "id": "preceding-estate",
   "metadata": {},
   "source": [
    "### Grau de Escolaridade\n",
    "Da mesma forma, acionando a próxima célula, vamos poder observar um gráfico que corresponde à quantidade de eleitores que possuem determinado grau de escolaridade. <br>"
   ]
  },
  {
   "cell_type": "code",
   "execution_count": 115,
   "id": "68586adb",
   "metadata": {
    "scrolled": false
   },
   "outputs": [
    {
     "output_type": "display_data",
     "data": {
      "application/vnd.plotly.v1+json": {
       "config": {
        "plotlyServerURL": "https://plot.ly"
       },
       "data": [
        {
         "alignmentgroup": "True",
         "hovertemplate": "Escolaridade=%{x}<br>Eleitores=%{y}<extra></extra>",
         "legendgroup": "",
         "marker": {
          "color": "#636efa"
         },
         "name": "",
         "offsetgroup": "",
         "orientation": "v",
         "showlegend": false,
         "textposition": "auto",
         "type": "bar",
         "x": [
          "ANALFABETO",
          "ENSINO FUNDAMENTAL COMPLETO",
          "ENSINO FUNDAMENTAL INCOMPLETO",
          "ENSINO MÉDIO COMPLETO",
          "ENSINO MÉDIO INCOMPLETO",
          "LÊ E ESCREVE",
          "SUPERIOR COMPLETO",
          "SUPERIOR INCOMPLETO"
         ],
         "xaxis": "x",
         "y": [
          7106,
          38065,
          102648,
          158214,
          97589,
          15347,
          62142,
          27582
         ],
         "yaxis": "y"
        }
       ],
       "layout": {
        "barmode": "relative",
        "legend": {
         "tracegroupgap": 0
        },
        "template": {
         "data": {
          "bar": [
           {
            "error_x": {
             "color": "#2a3f5f"
            },
            "error_y": {
             "color": "#2a3f5f"
            },
            "marker": {
             "line": {
              "color": "#E5ECF6",
              "width": 0.5
             }
            },
            "type": "bar"
           }
          ],
          "barpolar": [
           {
            "marker": {
             "line": {
              "color": "#E5ECF6",
              "width": 0.5
             }
            },
            "type": "barpolar"
           }
          ],
          "carpet": [
           {
            "aaxis": {
             "endlinecolor": "#2a3f5f",
             "gridcolor": "white",
             "linecolor": "white",
             "minorgridcolor": "white",
             "startlinecolor": "#2a3f5f"
            },
            "baxis": {
             "endlinecolor": "#2a3f5f",
             "gridcolor": "white",
             "linecolor": "white",
             "minorgridcolor": "white",
             "startlinecolor": "#2a3f5f"
            },
            "type": "carpet"
           }
          ],
          "choropleth": [
           {
            "colorbar": {
             "outlinewidth": 0,
             "ticks": ""
            },
            "type": "choropleth"
           }
          ],
          "contour": [
           {
            "colorbar": {
             "outlinewidth": 0,
             "ticks": ""
            },
            "colorscale": [
             [
              0,
              "#0d0887"
             ],
             [
              0.1111111111111111,
              "#46039f"
             ],
             [
              0.2222222222222222,
              "#7201a8"
             ],
             [
              0.3333333333333333,
              "#9c179e"
             ],
             [
              0.4444444444444444,
              "#bd3786"
             ],
             [
              0.5555555555555556,
              "#d8576b"
             ],
             [
              0.6666666666666666,
              "#ed7953"
             ],
             [
              0.7777777777777778,
              "#fb9f3a"
             ],
             [
              0.8888888888888888,
              "#fdca26"
             ],
             [
              1,
              "#f0f921"
             ]
            ],
            "type": "contour"
           }
          ],
          "contourcarpet": [
           {
            "colorbar": {
             "outlinewidth": 0,
             "ticks": ""
            },
            "type": "contourcarpet"
           }
          ],
          "heatmap": [
           {
            "colorbar": {
             "outlinewidth": 0,
             "ticks": ""
            },
            "colorscale": [
             [
              0,
              "#0d0887"
             ],
             [
              0.1111111111111111,
              "#46039f"
             ],
             [
              0.2222222222222222,
              "#7201a8"
             ],
             [
              0.3333333333333333,
              "#9c179e"
             ],
             [
              0.4444444444444444,
              "#bd3786"
             ],
             [
              0.5555555555555556,
              "#d8576b"
             ],
             [
              0.6666666666666666,
              "#ed7953"
             ],
             [
              0.7777777777777778,
              "#fb9f3a"
             ],
             [
              0.8888888888888888,
              "#fdca26"
             ],
             [
              1,
              "#f0f921"
             ]
            ],
            "type": "heatmap"
           }
          ],
          "heatmapgl": [
           {
            "colorbar": {
             "outlinewidth": 0,
             "ticks": ""
            },
            "colorscale": [
             [
              0,
              "#0d0887"
             ],
             [
              0.1111111111111111,
              "#46039f"
             ],
             [
              0.2222222222222222,
              "#7201a8"
             ],
             [
              0.3333333333333333,
              "#9c179e"
             ],
             [
              0.4444444444444444,
              "#bd3786"
             ],
             [
              0.5555555555555556,
              "#d8576b"
             ],
             [
              0.6666666666666666,
              "#ed7953"
             ],
             [
              0.7777777777777778,
              "#fb9f3a"
             ],
             [
              0.8888888888888888,
              "#fdca26"
             ],
             [
              1,
              "#f0f921"
             ]
            ],
            "type": "heatmapgl"
           }
          ],
          "histogram": [
           {
            "marker": {
             "colorbar": {
              "outlinewidth": 0,
              "ticks": ""
             }
            },
            "type": "histogram"
           }
          ],
          "histogram2d": [
           {
            "colorbar": {
             "outlinewidth": 0,
             "ticks": ""
            },
            "colorscale": [
             [
              0,
              "#0d0887"
             ],
             [
              0.1111111111111111,
              "#46039f"
             ],
             [
              0.2222222222222222,
              "#7201a8"
             ],
             [
              0.3333333333333333,
              "#9c179e"
             ],
             [
              0.4444444444444444,
              "#bd3786"
             ],
             [
              0.5555555555555556,
              "#d8576b"
             ],
             [
              0.6666666666666666,
              "#ed7953"
             ],
             [
              0.7777777777777778,
              "#fb9f3a"
             ],
             [
              0.8888888888888888,
              "#fdca26"
             ],
             [
              1,
              "#f0f921"
             ]
            ],
            "type": "histogram2d"
           }
          ],
          "histogram2dcontour": [
           {
            "colorbar": {
             "outlinewidth": 0,
             "ticks": ""
            },
            "colorscale": [
             [
              0,
              "#0d0887"
             ],
             [
              0.1111111111111111,
              "#46039f"
             ],
             [
              0.2222222222222222,
              "#7201a8"
             ],
             [
              0.3333333333333333,
              "#9c179e"
             ],
             [
              0.4444444444444444,
              "#bd3786"
             ],
             [
              0.5555555555555556,
              "#d8576b"
             ],
             [
              0.6666666666666666,
              "#ed7953"
             ],
             [
              0.7777777777777778,
              "#fb9f3a"
             ],
             [
              0.8888888888888888,
              "#fdca26"
             ],
             [
              1,
              "#f0f921"
             ]
            ],
            "type": "histogram2dcontour"
           }
          ],
          "mesh3d": [
           {
            "colorbar": {
             "outlinewidth": 0,
             "ticks": ""
            },
            "type": "mesh3d"
           }
          ],
          "parcoords": [
           {
            "line": {
             "colorbar": {
              "outlinewidth": 0,
              "ticks": ""
             }
            },
            "type": "parcoords"
           }
          ],
          "pie": [
           {
            "automargin": true,
            "type": "pie"
           }
          ],
          "scatter": [
           {
            "marker": {
             "colorbar": {
              "outlinewidth": 0,
              "ticks": ""
             }
            },
            "type": "scatter"
           }
          ],
          "scatter3d": [
           {
            "line": {
             "colorbar": {
              "outlinewidth": 0,
              "ticks": ""
             }
            },
            "marker": {
             "colorbar": {
              "outlinewidth": 0,
              "ticks": ""
             }
            },
            "type": "scatter3d"
           }
          ],
          "scattercarpet": [
           {
            "marker": {
             "colorbar": {
              "outlinewidth": 0,
              "ticks": ""
             }
            },
            "type": "scattercarpet"
           }
          ],
          "scattergeo": [
           {
            "marker": {
             "colorbar": {
              "outlinewidth": 0,
              "ticks": ""
             }
            },
            "type": "scattergeo"
           }
          ],
          "scattergl": [
           {
            "marker": {
             "colorbar": {
              "outlinewidth": 0,
              "ticks": ""
             }
            },
            "type": "scattergl"
           }
          ],
          "scattermapbox": [
           {
            "marker": {
             "colorbar": {
              "outlinewidth": 0,
              "ticks": ""
             }
            },
            "type": "scattermapbox"
           }
          ],
          "scatterpolar": [
           {
            "marker": {
             "colorbar": {
              "outlinewidth": 0,
              "ticks": ""
             }
            },
            "type": "scatterpolar"
           }
          ],
          "scatterpolargl": [
           {
            "marker": {
             "colorbar": {
              "outlinewidth": 0,
              "ticks": ""
             }
            },
            "type": "scatterpolargl"
           }
          ],
          "scatterternary": [
           {
            "marker": {
             "colorbar": {
              "outlinewidth": 0,
              "ticks": ""
             }
            },
            "type": "scatterternary"
           }
          ],
          "surface": [
           {
            "colorbar": {
             "outlinewidth": 0,
             "ticks": ""
            },
            "colorscale": [
             [
              0,
              "#0d0887"
             ],
             [
              0.1111111111111111,
              "#46039f"
             ],
             [
              0.2222222222222222,
              "#7201a8"
             ],
             [
              0.3333333333333333,
              "#9c179e"
             ],
             [
              0.4444444444444444,
              "#bd3786"
             ],
             [
              0.5555555555555556,
              "#d8576b"
             ],
             [
              0.6666666666666666,
              "#ed7953"
             ],
             [
              0.7777777777777778,
              "#fb9f3a"
             ],
             [
              0.8888888888888888,
              "#fdca26"
             ],
             [
              1,
              "#f0f921"
             ]
            ],
            "type": "surface"
           }
          ],
          "table": [
           {
            "cells": {
             "fill": {
              "color": "#EBF0F8"
             },
             "line": {
              "color": "white"
             }
            },
            "header": {
             "fill": {
              "color": "#C8D4E3"
             },
             "line": {
              "color": "white"
             }
            },
            "type": "table"
           }
          ]
         },
         "layout": {
          "annotationdefaults": {
           "arrowcolor": "#2a3f5f",
           "arrowhead": 0,
           "arrowwidth": 1
          },
          "autotypenumbers": "strict",
          "coloraxis": {
           "colorbar": {
            "outlinewidth": 0,
            "ticks": ""
           }
          },
          "colorscale": {
           "diverging": [
            [
             0,
             "#8e0152"
            ],
            [
             0.1,
             "#c51b7d"
            ],
            [
             0.2,
             "#de77ae"
            ],
            [
             0.3,
             "#f1b6da"
            ],
            [
             0.4,
             "#fde0ef"
            ],
            [
             0.5,
             "#f7f7f7"
            ],
            [
             0.6,
             "#e6f5d0"
            ],
            [
             0.7,
             "#b8e186"
            ],
            [
             0.8,
             "#7fbc41"
            ],
            [
             0.9,
             "#4d9221"
            ],
            [
             1,
             "#276419"
            ]
           ],
           "sequential": [
            [
             0,
             "#0d0887"
            ],
            [
             0.1111111111111111,
             "#46039f"
            ],
            [
             0.2222222222222222,
             "#7201a8"
            ],
            [
             0.3333333333333333,
             "#9c179e"
            ],
            [
             0.4444444444444444,
             "#bd3786"
            ],
            [
             0.5555555555555556,
             "#d8576b"
            ],
            [
             0.6666666666666666,
             "#ed7953"
            ],
            [
             0.7777777777777778,
             "#fb9f3a"
            ],
            [
             0.8888888888888888,
             "#fdca26"
            ],
            [
             1,
             "#f0f921"
            ]
           ],
           "sequentialminus": [
            [
             0,
             "#0d0887"
            ],
            [
             0.1111111111111111,
             "#46039f"
            ],
            [
             0.2222222222222222,
             "#7201a8"
            ],
            [
             0.3333333333333333,
             "#9c179e"
            ],
            [
             0.4444444444444444,
             "#bd3786"
            ],
            [
             0.5555555555555556,
             "#d8576b"
            ],
            [
             0.6666666666666666,
             "#ed7953"
            ],
            [
             0.7777777777777778,
             "#fb9f3a"
            ],
            [
             0.8888888888888888,
             "#fdca26"
            ],
            [
             1,
             "#f0f921"
            ]
           ]
          },
          "colorway": [
           "#636efa",
           "#EF553B",
           "#00cc96",
           "#ab63fa",
           "#FFA15A",
           "#19d3f3",
           "#FF6692",
           "#B6E880",
           "#FF97FF",
           "#FECB52"
          ],
          "font": {
           "color": "#2a3f5f"
          },
          "geo": {
           "bgcolor": "white",
           "lakecolor": "white",
           "landcolor": "#E5ECF6",
           "showlakes": true,
           "showland": true,
           "subunitcolor": "white"
          },
          "hoverlabel": {
           "align": "left"
          },
          "hovermode": "closest",
          "mapbox": {
           "style": "light"
          },
          "paper_bgcolor": "white",
          "plot_bgcolor": "#E5ECF6",
          "polar": {
           "angularaxis": {
            "gridcolor": "white",
            "linecolor": "white",
            "ticks": ""
           },
           "bgcolor": "#E5ECF6",
           "radialaxis": {
            "gridcolor": "white",
            "linecolor": "white",
            "ticks": ""
           }
          },
          "scene": {
           "xaxis": {
            "backgroundcolor": "#E5ECF6",
            "gridcolor": "white",
            "gridwidth": 2,
            "linecolor": "white",
            "showbackground": true,
            "ticks": "",
            "zerolinecolor": "white"
           },
           "yaxis": {
            "backgroundcolor": "#E5ECF6",
            "gridcolor": "white",
            "gridwidth": 2,
            "linecolor": "white",
            "showbackground": true,
            "ticks": "",
            "zerolinecolor": "white"
           },
           "zaxis": {
            "backgroundcolor": "#E5ECF6",
            "gridcolor": "white",
            "gridwidth": 2,
            "linecolor": "white",
            "showbackground": true,
            "ticks": "",
            "zerolinecolor": "white"
           }
          },
          "shapedefaults": {
           "line": {
            "color": "#2a3f5f"
           }
          },
          "ternary": {
           "aaxis": {
            "gridcolor": "white",
            "linecolor": "white",
            "ticks": ""
           },
           "baxis": {
            "gridcolor": "white",
            "linecolor": "white",
            "ticks": ""
           },
           "bgcolor": "#E5ECF6",
           "caxis": {
            "gridcolor": "white",
            "linecolor": "white",
            "ticks": ""
           }
          },
          "title": {
           "x": 0.05
          },
          "xaxis": {
           "automargin": true,
           "gridcolor": "white",
           "linecolor": "white",
           "ticks": "",
           "title": {
            "standoff": 15
           },
           "zerolinecolor": "white",
           "zerolinewidth": 2
          },
          "yaxis": {
           "automargin": true,
           "gridcolor": "white",
           "linecolor": "white",
           "ticks": "",
           "title": {
            "standoff": 15
           },
           "zerolinecolor": "white",
           "zerolinewidth": 2
          }
         }
        },
        "title": {
         "text": "GRAU DE ESCOLARIDADE DO ELEITORADO - SÃO JOSÉ DOS CAMPOS / 2018"
        },
        "xaxis": {
         "anchor": "y",
         "domain": [
          0,
          1
         ],
         "title": {
          "text": "Escolaridade"
         }
        },
        "yaxis": {
         "anchor": "x",
         "domain": [
          0,
          1
         ],
         "title": {
          "text": "Eleitores"
         }
        }
       }
      }
     },
     "metadata": {}
    }
   ],
   "source": [
    "total_eleitores_escolaridade = municipio_eleitores.groupby('DS_GRAU_ESCOLARIDADE')['QT_ELEITORES_PERFIL'].sum()\n",
    "fig=px.bar(total_eleitores_escolaridade, x= total_eleitores_escolaridade.index, y=total_eleitores_escolaridade.values,\n",
    "          title=\"GRAU DE ESCOLARIDADE DO ELEITORADO - \" + eleicao_municipio.upper() + \" / \" + str(eleicao_ano), \n",
    "          labels={'y':'Eleitores', 'DS_GRAU_ESCOLARIDADE':'Escolaridade'})\n",
    "\n",
    "fig.show()"
   ]
  },
  {
   "cell_type": "markdown",
   "id": "distant-amount",
   "metadata": {},
   "source": [
    "### Estado Civil\n",
    "Com o código abaixo, o gráfico gerado irá ilustrar a quantidade de pessoas de acordo com seu estado civil:"
   ]
  },
  {
   "cell_type": "code",
   "execution_count": 116,
   "id": "straight-influence",
   "metadata": {},
   "outputs": [
    {
     "output_type": "display_data",
     "data": {
      "application/vnd.plotly.v1+json": {
       "config": {
        "plotlyServerURL": "https://plot.ly"
       },
       "data": [
        {
         "alignmentgroup": "True",
         "hovertemplate": "Estado Civil=%{x}<br>Eleitores=%{y}<extra></extra>",
         "legendgroup": "",
         "marker": {
          "color": "#636efa"
         },
         "name": "",
         "offsetgroup": "",
         "orientation": "v",
         "showlegend": false,
         "textposition": "auto",
         "type": "bar",
         "x": [
          "SOLTEIRO",
          "CASADO",
          "DIVORCIADO",
          "VIÚVO",
          "SEPARADO JUDICIALMENTE",
          "NÃO INFORMADO"
         ],
         "xaxis": "x",
         "y": [
          281416,
          190342,
          17939,
          10739,
          8174,
          83
         ],
         "yaxis": "y"
        }
       ],
       "layout": {
        "barmode": "relative",
        "legend": {
         "tracegroupgap": 0
        },
        "template": {
         "data": {
          "bar": [
           {
            "error_x": {
             "color": "#2a3f5f"
            },
            "error_y": {
             "color": "#2a3f5f"
            },
            "marker": {
             "line": {
              "color": "#E5ECF6",
              "width": 0.5
             }
            },
            "type": "bar"
           }
          ],
          "barpolar": [
           {
            "marker": {
             "line": {
              "color": "#E5ECF6",
              "width": 0.5
             }
            },
            "type": "barpolar"
           }
          ],
          "carpet": [
           {
            "aaxis": {
             "endlinecolor": "#2a3f5f",
             "gridcolor": "white",
             "linecolor": "white",
             "minorgridcolor": "white",
             "startlinecolor": "#2a3f5f"
            },
            "baxis": {
             "endlinecolor": "#2a3f5f",
             "gridcolor": "white",
             "linecolor": "white",
             "minorgridcolor": "white",
             "startlinecolor": "#2a3f5f"
            },
            "type": "carpet"
           }
          ],
          "choropleth": [
           {
            "colorbar": {
             "outlinewidth": 0,
             "ticks": ""
            },
            "type": "choropleth"
           }
          ],
          "contour": [
           {
            "colorbar": {
             "outlinewidth": 0,
             "ticks": ""
            },
            "colorscale": [
             [
              0,
              "#0d0887"
             ],
             [
              0.1111111111111111,
              "#46039f"
             ],
             [
              0.2222222222222222,
              "#7201a8"
             ],
             [
              0.3333333333333333,
              "#9c179e"
             ],
             [
              0.4444444444444444,
              "#bd3786"
             ],
             [
              0.5555555555555556,
              "#d8576b"
             ],
             [
              0.6666666666666666,
              "#ed7953"
             ],
             [
              0.7777777777777778,
              "#fb9f3a"
             ],
             [
              0.8888888888888888,
              "#fdca26"
             ],
             [
              1,
              "#f0f921"
             ]
            ],
            "type": "contour"
           }
          ],
          "contourcarpet": [
           {
            "colorbar": {
             "outlinewidth": 0,
             "ticks": ""
            },
            "type": "contourcarpet"
           }
          ],
          "heatmap": [
           {
            "colorbar": {
             "outlinewidth": 0,
             "ticks": ""
            },
            "colorscale": [
             [
              0,
              "#0d0887"
             ],
             [
              0.1111111111111111,
              "#46039f"
             ],
             [
              0.2222222222222222,
              "#7201a8"
             ],
             [
              0.3333333333333333,
              "#9c179e"
             ],
             [
              0.4444444444444444,
              "#bd3786"
             ],
             [
              0.5555555555555556,
              "#d8576b"
             ],
             [
              0.6666666666666666,
              "#ed7953"
             ],
             [
              0.7777777777777778,
              "#fb9f3a"
             ],
             [
              0.8888888888888888,
              "#fdca26"
             ],
             [
              1,
              "#f0f921"
             ]
            ],
            "type": "heatmap"
           }
          ],
          "heatmapgl": [
           {
            "colorbar": {
             "outlinewidth": 0,
             "ticks": ""
            },
            "colorscale": [
             [
              0,
              "#0d0887"
             ],
             [
              0.1111111111111111,
              "#46039f"
             ],
             [
              0.2222222222222222,
              "#7201a8"
             ],
             [
              0.3333333333333333,
              "#9c179e"
             ],
             [
              0.4444444444444444,
              "#bd3786"
             ],
             [
              0.5555555555555556,
              "#d8576b"
             ],
             [
              0.6666666666666666,
              "#ed7953"
             ],
             [
              0.7777777777777778,
              "#fb9f3a"
             ],
             [
              0.8888888888888888,
              "#fdca26"
             ],
             [
              1,
              "#f0f921"
             ]
            ],
            "type": "heatmapgl"
           }
          ],
          "histogram": [
           {
            "marker": {
             "colorbar": {
              "outlinewidth": 0,
              "ticks": ""
             }
            },
            "type": "histogram"
           }
          ],
          "histogram2d": [
           {
            "colorbar": {
             "outlinewidth": 0,
             "ticks": ""
            },
            "colorscale": [
             [
              0,
              "#0d0887"
             ],
             [
              0.1111111111111111,
              "#46039f"
             ],
             [
              0.2222222222222222,
              "#7201a8"
             ],
             [
              0.3333333333333333,
              "#9c179e"
             ],
             [
              0.4444444444444444,
              "#bd3786"
             ],
             [
              0.5555555555555556,
              "#d8576b"
             ],
             [
              0.6666666666666666,
              "#ed7953"
             ],
             [
              0.7777777777777778,
              "#fb9f3a"
             ],
             [
              0.8888888888888888,
              "#fdca26"
             ],
             [
              1,
              "#f0f921"
             ]
            ],
            "type": "histogram2d"
           }
          ],
          "histogram2dcontour": [
           {
            "colorbar": {
             "outlinewidth": 0,
             "ticks": ""
            },
            "colorscale": [
             [
              0,
              "#0d0887"
             ],
             [
              0.1111111111111111,
              "#46039f"
             ],
             [
              0.2222222222222222,
              "#7201a8"
             ],
             [
              0.3333333333333333,
              "#9c179e"
             ],
             [
              0.4444444444444444,
              "#bd3786"
             ],
             [
              0.5555555555555556,
              "#d8576b"
             ],
             [
              0.6666666666666666,
              "#ed7953"
             ],
             [
              0.7777777777777778,
              "#fb9f3a"
             ],
             [
              0.8888888888888888,
              "#fdca26"
             ],
             [
              1,
              "#f0f921"
             ]
            ],
            "type": "histogram2dcontour"
           }
          ],
          "mesh3d": [
           {
            "colorbar": {
             "outlinewidth": 0,
             "ticks": ""
            },
            "type": "mesh3d"
           }
          ],
          "parcoords": [
           {
            "line": {
             "colorbar": {
              "outlinewidth": 0,
              "ticks": ""
             }
            },
            "type": "parcoords"
           }
          ],
          "pie": [
           {
            "automargin": true,
            "type": "pie"
           }
          ],
          "scatter": [
           {
            "marker": {
             "colorbar": {
              "outlinewidth": 0,
              "ticks": ""
             }
            },
            "type": "scatter"
           }
          ],
          "scatter3d": [
           {
            "line": {
             "colorbar": {
              "outlinewidth": 0,
              "ticks": ""
             }
            },
            "marker": {
             "colorbar": {
              "outlinewidth": 0,
              "ticks": ""
             }
            },
            "type": "scatter3d"
           }
          ],
          "scattercarpet": [
           {
            "marker": {
             "colorbar": {
              "outlinewidth": 0,
              "ticks": ""
             }
            },
            "type": "scattercarpet"
           }
          ],
          "scattergeo": [
           {
            "marker": {
             "colorbar": {
              "outlinewidth": 0,
              "ticks": ""
             }
            },
            "type": "scattergeo"
           }
          ],
          "scattergl": [
           {
            "marker": {
             "colorbar": {
              "outlinewidth": 0,
              "ticks": ""
             }
            },
            "type": "scattergl"
           }
          ],
          "scattermapbox": [
           {
            "marker": {
             "colorbar": {
              "outlinewidth": 0,
              "ticks": ""
             }
            },
            "type": "scattermapbox"
           }
          ],
          "scatterpolar": [
           {
            "marker": {
             "colorbar": {
              "outlinewidth": 0,
              "ticks": ""
             }
            },
            "type": "scatterpolar"
           }
          ],
          "scatterpolargl": [
           {
            "marker": {
             "colorbar": {
              "outlinewidth": 0,
              "ticks": ""
             }
            },
            "type": "scatterpolargl"
           }
          ],
          "scatterternary": [
           {
            "marker": {
             "colorbar": {
              "outlinewidth": 0,
              "ticks": ""
             }
            },
            "type": "scatterternary"
           }
          ],
          "surface": [
           {
            "colorbar": {
             "outlinewidth": 0,
             "ticks": ""
            },
            "colorscale": [
             [
              0,
              "#0d0887"
             ],
             [
              0.1111111111111111,
              "#46039f"
             ],
             [
              0.2222222222222222,
              "#7201a8"
             ],
             [
              0.3333333333333333,
              "#9c179e"
             ],
             [
              0.4444444444444444,
              "#bd3786"
             ],
             [
              0.5555555555555556,
              "#d8576b"
             ],
             [
              0.6666666666666666,
              "#ed7953"
             ],
             [
              0.7777777777777778,
              "#fb9f3a"
             ],
             [
              0.8888888888888888,
              "#fdca26"
             ],
             [
              1,
              "#f0f921"
             ]
            ],
            "type": "surface"
           }
          ],
          "table": [
           {
            "cells": {
             "fill": {
              "color": "#EBF0F8"
             },
             "line": {
              "color": "white"
             }
            },
            "header": {
             "fill": {
              "color": "#C8D4E3"
             },
             "line": {
              "color": "white"
             }
            },
            "type": "table"
           }
          ]
         },
         "layout": {
          "annotationdefaults": {
           "arrowcolor": "#2a3f5f",
           "arrowhead": 0,
           "arrowwidth": 1
          },
          "autotypenumbers": "strict",
          "coloraxis": {
           "colorbar": {
            "outlinewidth": 0,
            "ticks": ""
           }
          },
          "colorscale": {
           "diverging": [
            [
             0,
             "#8e0152"
            ],
            [
             0.1,
             "#c51b7d"
            ],
            [
             0.2,
             "#de77ae"
            ],
            [
             0.3,
             "#f1b6da"
            ],
            [
             0.4,
             "#fde0ef"
            ],
            [
             0.5,
             "#f7f7f7"
            ],
            [
             0.6,
             "#e6f5d0"
            ],
            [
             0.7,
             "#b8e186"
            ],
            [
             0.8,
             "#7fbc41"
            ],
            [
             0.9,
             "#4d9221"
            ],
            [
             1,
             "#276419"
            ]
           ],
           "sequential": [
            [
             0,
             "#0d0887"
            ],
            [
             0.1111111111111111,
             "#46039f"
            ],
            [
             0.2222222222222222,
             "#7201a8"
            ],
            [
             0.3333333333333333,
             "#9c179e"
            ],
            [
             0.4444444444444444,
             "#bd3786"
            ],
            [
             0.5555555555555556,
             "#d8576b"
            ],
            [
             0.6666666666666666,
             "#ed7953"
            ],
            [
             0.7777777777777778,
             "#fb9f3a"
            ],
            [
             0.8888888888888888,
             "#fdca26"
            ],
            [
             1,
             "#f0f921"
            ]
           ],
           "sequentialminus": [
            [
             0,
             "#0d0887"
            ],
            [
             0.1111111111111111,
             "#46039f"
            ],
            [
             0.2222222222222222,
             "#7201a8"
            ],
            [
             0.3333333333333333,
             "#9c179e"
            ],
            [
             0.4444444444444444,
             "#bd3786"
            ],
            [
             0.5555555555555556,
             "#d8576b"
            ],
            [
             0.6666666666666666,
             "#ed7953"
            ],
            [
             0.7777777777777778,
             "#fb9f3a"
            ],
            [
             0.8888888888888888,
             "#fdca26"
            ],
            [
             1,
             "#f0f921"
            ]
           ]
          },
          "colorway": [
           "#636efa",
           "#EF553B",
           "#00cc96",
           "#ab63fa",
           "#FFA15A",
           "#19d3f3",
           "#FF6692",
           "#B6E880",
           "#FF97FF",
           "#FECB52"
          ],
          "font": {
           "color": "#2a3f5f"
          },
          "geo": {
           "bgcolor": "white",
           "lakecolor": "white",
           "landcolor": "#E5ECF6",
           "showlakes": true,
           "showland": true,
           "subunitcolor": "white"
          },
          "hoverlabel": {
           "align": "left"
          },
          "hovermode": "closest",
          "mapbox": {
           "style": "light"
          },
          "paper_bgcolor": "white",
          "plot_bgcolor": "#E5ECF6",
          "polar": {
           "angularaxis": {
            "gridcolor": "white",
            "linecolor": "white",
            "ticks": ""
           },
           "bgcolor": "#E5ECF6",
           "radialaxis": {
            "gridcolor": "white",
            "linecolor": "white",
            "ticks": ""
           }
          },
          "scene": {
           "xaxis": {
            "backgroundcolor": "#E5ECF6",
            "gridcolor": "white",
            "gridwidth": 2,
            "linecolor": "white",
            "showbackground": true,
            "ticks": "",
            "zerolinecolor": "white"
           },
           "yaxis": {
            "backgroundcolor": "#E5ECF6",
            "gridcolor": "white",
            "gridwidth": 2,
            "linecolor": "white",
            "showbackground": true,
            "ticks": "",
            "zerolinecolor": "white"
           },
           "zaxis": {
            "backgroundcolor": "#E5ECF6",
            "gridcolor": "white",
            "gridwidth": 2,
            "linecolor": "white",
            "showbackground": true,
            "ticks": "",
            "zerolinecolor": "white"
           }
          },
          "shapedefaults": {
           "line": {
            "color": "#2a3f5f"
           }
          },
          "ternary": {
           "aaxis": {
            "gridcolor": "white",
            "linecolor": "white",
            "ticks": ""
           },
           "baxis": {
            "gridcolor": "white",
            "linecolor": "white",
            "ticks": ""
           },
           "bgcolor": "#E5ECF6",
           "caxis": {
            "gridcolor": "white",
            "linecolor": "white",
            "ticks": ""
           }
          },
          "title": {
           "x": 0.05
          },
          "xaxis": {
           "automargin": true,
           "gridcolor": "white",
           "linecolor": "white",
           "ticks": "",
           "title": {
            "standoff": 15
           },
           "zerolinecolor": "white",
           "zerolinewidth": 2
          },
          "yaxis": {
           "automargin": true,
           "gridcolor": "white",
           "linecolor": "white",
           "ticks": "",
           "title": {
            "standoff": 15
           },
           "zerolinecolor": "white",
           "zerolinewidth": 2
          }
         }
        },
        "title": {
         "text": "ESTADO CIVIL DO ELEITORADO - SÃO JOSÉ DOS CAMPOS / 2018"
        },
        "xaxis": {
         "anchor": "y",
         "domain": [
          0,
          1
         ],
         "title": {
          "text": "Estado Civil"
         }
        },
        "yaxis": {
         "anchor": "x",
         "domain": [
          0,
          1
         ],
         "title": {
          "text": "Eleitores"
         }
        }
       }
      }
     },
     "metadata": {}
    }
   ],
   "source": [
    "total_eleitores_estadocivil = municipio_eleitores.groupby('DS_ESTADO_CIVIL')['QT_ELEITORES_PERFIL'].sum().sort_values(ascending=False)\n",
    "fig=px.bar(total_eleitores_estadocivil, x= total_eleitores_estadocivil.index, y=total_eleitores_estadocivil.values,\n",
    "          title=\"ESTADO CIVIL DO ELEITORADO - \" + eleicao_municipio.upper() + \" / \" + str(eleicao_ano), \n",
    "          labels={'y':'Eleitores', 'DS_ESTADO_CIVIL':'Estado Civil'})\n",
    "\n",
    "fig.show()"
   ]
  },
  {
   "cell_type": "markdown",
   "id": "bulgarian-nashville",
   "metadata": {},
   "source": [
    "### Faixa Etária\n",
    "Para faixa etária, observamos um gráfico que relaciona a quantidade de pessoas com o intervalo de idade que elas se encaixam:"
   ]
  },
  {
   "cell_type": "code",
   "execution_count": 117,
   "id": "unlike-transmission",
   "metadata": {},
   "outputs": [
    {
     "output_type": "display_data",
     "data": {
      "application/vnd.plotly.v1+json": {
       "config": {
        "plotlyServerURL": "https://plot.ly"
       },
       "data": [
        {
         "alignmentgroup": "True",
         "hovertemplate": "Faixa Etária=%{x}<br>Eleitores=%{y}<extra></extra>",
         "legendgroup": "",
         "marker": {
          "color": "#636efa"
         },
         "name": "",
         "offsetgroup": "",
         "orientation": "v",
         "showlegend": false,
         "textposition": "auto",
         "type": "bar",
         "x": [
          "100 anos ou mais              ",
          "16 anos                       ",
          "17 anos                       ",
          "18 anos                       ",
          "19 anos                       ",
          "20 anos                       ",
          "21 a 24 anos                  ",
          "25 a 29 anos                  ",
          "30 a 34 anos                  ",
          "35 a 39 anos                  ",
          "40 a 44 anos                  ",
          "45 a 49 anos                  ",
          "50 a 54 anos                  ",
          "55 a 59 anos                  ",
          "60 a 64 anos                  ",
          "65 a 69 anos                  ",
          "70 a 74 anos                  ",
          "75 a 79 anos                  ",
          "80 a 84 anos                  ",
          "85 a 89 anos                  ",
          "90 a 94 anos                  ",
          "95 a 99 anos                  ",
          "Inválido                      "
         ],
         "xaxis": "x",
         "y": [
          85,
          593,
          1905,
          7173,
          8754,
          9600,
          40163,
          51866,
          55086,
          58915,
          50407,
          45084,
          42755,
          38864,
          33122,
          24973,
          16654,
          9920,
          6125,
          3548,
          2193,
          906,
          2
         ],
         "yaxis": "y"
        }
       ],
       "layout": {
        "barmode": "relative",
        "legend": {
         "tracegroupgap": 0
        },
        "template": {
         "data": {
          "bar": [
           {
            "error_x": {
             "color": "#2a3f5f"
            },
            "error_y": {
             "color": "#2a3f5f"
            },
            "marker": {
             "line": {
              "color": "#E5ECF6",
              "width": 0.5
             }
            },
            "type": "bar"
           }
          ],
          "barpolar": [
           {
            "marker": {
             "line": {
              "color": "#E5ECF6",
              "width": 0.5
             }
            },
            "type": "barpolar"
           }
          ],
          "carpet": [
           {
            "aaxis": {
             "endlinecolor": "#2a3f5f",
             "gridcolor": "white",
             "linecolor": "white",
             "minorgridcolor": "white",
             "startlinecolor": "#2a3f5f"
            },
            "baxis": {
             "endlinecolor": "#2a3f5f",
             "gridcolor": "white",
             "linecolor": "white",
             "minorgridcolor": "white",
             "startlinecolor": "#2a3f5f"
            },
            "type": "carpet"
           }
          ],
          "choropleth": [
           {
            "colorbar": {
             "outlinewidth": 0,
             "ticks": ""
            },
            "type": "choropleth"
           }
          ],
          "contour": [
           {
            "colorbar": {
             "outlinewidth": 0,
             "ticks": ""
            },
            "colorscale": [
             [
              0,
              "#0d0887"
             ],
             [
              0.1111111111111111,
              "#46039f"
             ],
             [
              0.2222222222222222,
              "#7201a8"
             ],
             [
              0.3333333333333333,
              "#9c179e"
             ],
             [
              0.4444444444444444,
              "#bd3786"
             ],
             [
              0.5555555555555556,
              "#d8576b"
             ],
             [
              0.6666666666666666,
              "#ed7953"
             ],
             [
              0.7777777777777778,
              "#fb9f3a"
             ],
             [
              0.8888888888888888,
              "#fdca26"
             ],
             [
              1,
              "#f0f921"
             ]
            ],
            "type": "contour"
           }
          ],
          "contourcarpet": [
           {
            "colorbar": {
             "outlinewidth": 0,
             "ticks": ""
            },
            "type": "contourcarpet"
           }
          ],
          "heatmap": [
           {
            "colorbar": {
             "outlinewidth": 0,
             "ticks": ""
            },
            "colorscale": [
             [
              0,
              "#0d0887"
             ],
             [
              0.1111111111111111,
              "#46039f"
             ],
             [
              0.2222222222222222,
              "#7201a8"
             ],
             [
              0.3333333333333333,
              "#9c179e"
             ],
             [
              0.4444444444444444,
              "#bd3786"
             ],
             [
              0.5555555555555556,
              "#d8576b"
             ],
             [
              0.6666666666666666,
              "#ed7953"
             ],
             [
              0.7777777777777778,
              "#fb9f3a"
             ],
             [
              0.8888888888888888,
              "#fdca26"
             ],
             [
              1,
              "#f0f921"
             ]
            ],
            "type": "heatmap"
           }
          ],
          "heatmapgl": [
           {
            "colorbar": {
             "outlinewidth": 0,
             "ticks": ""
            },
            "colorscale": [
             [
              0,
              "#0d0887"
             ],
             [
              0.1111111111111111,
              "#46039f"
             ],
             [
              0.2222222222222222,
              "#7201a8"
             ],
             [
              0.3333333333333333,
              "#9c179e"
             ],
             [
              0.4444444444444444,
              "#bd3786"
             ],
             [
              0.5555555555555556,
              "#d8576b"
             ],
             [
              0.6666666666666666,
              "#ed7953"
             ],
             [
              0.7777777777777778,
              "#fb9f3a"
             ],
             [
              0.8888888888888888,
              "#fdca26"
             ],
             [
              1,
              "#f0f921"
             ]
            ],
            "type": "heatmapgl"
           }
          ],
          "histogram": [
           {
            "marker": {
             "colorbar": {
              "outlinewidth": 0,
              "ticks": ""
             }
            },
            "type": "histogram"
           }
          ],
          "histogram2d": [
           {
            "colorbar": {
             "outlinewidth": 0,
             "ticks": ""
            },
            "colorscale": [
             [
              0,
              "#0d0887"
             ],
             [
              0.1111111111111111,
              "#46039f"
             ],
             [
              0.2222222222222222,
              "#7201a8"
             ],
             [
              0.3333333333333333,
              "#9c179e"
             ],
             [
              0.4444444444444444,
              "#bd3786"
             ],
             [
              0.5555555555555556,
              "#d8576b"
             ],
             [
              0.6666666666666666,
              "#ed7953"
             ],
             [
              0.7777777777777778,
              "#fb9f3a"
             ],
             [
              0.8888888888888888,
              "#fdca26"
             ],
             [
              1,
              "#f0f921"
             ]
            ],
            "type": "histogram2d"
           }
          ],
          "histogram2dcontour": [
           {
            "colorbar": {
             "outlinewidth": 0,
             "ticks": ""
            },
            "colorscale": [
             [
              0,
              "#0d0887"
             ],
             [
              0.1111111111111111,
              "#46039f"
             ],
             [
              0.2222222222222222,
              "#7201a8"
             ],
             [
              0.3333333333333333,
              "#9c179e"
             ],
             [
              0.4444444444444444,
              "#bd3786"
             ],
             [
              0.5555555555555556,
              "#d8576b"
             ],
             [
              0.6666666666666666,
              "#ed7953"
             ],
             [
              0.7777777777777778,
              "#fb9f3a"
             ],
             [
              0.8888888888888888,
              "#fdca26"
             ],
             [
              1,
              "#f0f921"
             ]
            ],
            "type": "histogram2dcontour"
           }
          ],
          "mesh3d": [
           {
            "colorbar": {
             "outlinewidth": 0,
             "ticks": ""
            },
            "type": "mesh3d"
           }
          ],
          "parcoords": [
           {
            "line": {
             "colorbar": {
              "outlinewidth": 0,
              "ticks": ""
             }
            },
            "type": "parcoords"
           }
          ],
          "pie": [
           {
            "automargin": true,
            "type": "pie"
           }
          ],
          "scatter": [
           {
            "marker": {
             "colorbar": {
              "outlinewidth": 0,
              "ticks": ""
             }
            },
            "type": "scatter"
           }
          ],
          "scatter3d": [
           {
            "line": {
             "colorbar": {
              "outlinewidth": 0,
              "ticks": ""
             }
            },
            "marker": {
             "colorbar": {
              "outlinewidth": 0,
              "ticks": ""
             }
            },
            "type": "scatter3d"
           }
          ],
          "scattercarpet": [
           {
            "marker": {
             "colorbar": {
              "outlinewidth": 0,
              "ticks": ""
             }
            },
            "type": "scattercarpet"
           }
          ],
          "scattergeo": [
           {
            "marker": {
             "colorbar": {
              "outlinewidth": 0,
              "ticks": ""
             }
            },
            "type": "scattergeo"
           }
          ],
          "scattergl": [
           {
            "marker": {
             "colorbar": {
              "outlinewidth": 0,
              "ticks": ""
             }
            },
            "type": "scattergl"
           }
          ],
          "scattermapbox": [
           {
            "marker": {
             "colorbar": {
              "outlinewidth": 0,
              "ticks": ""
             }
            },
            "type": "scattermapbox"
           }
          ],
          "scatterpolar": [
           {
            "marker": {
             "colorbar": {
              "outlinewidth": 0,
              "ticks": ""
             }
            },
            "type": "scatterpolar"
           }
          ],
          "scatterpolargl": [
           {
            "marker": {
             "colorbar": {
              "outlinewidth": 0,
              "ticks": ""
             }
            },
            "type": "scatterpolargl"
           }
          ],
          "scatterternary": [
           {
            "marker": {
             "colorbar": {
              "outlinewidth": 0,
              "ticks": ""
             }
            },
            "type": "scatterternary"
           }
          ],
          "surface": [
           {
            "colorbar": {
             "outlinewidth": 0,
             "ticks": ""
            },
            "colorscale": [
             [
              0,
              "#0d0887"
             ],
             [
              0.1111111111111111,
              "#46039f"
             ],
             [
              0.2222222222222222,
              "#7201a8"
             ],
             [
              0.3333333333333333,
              "#9c179e"
             ],
             [
              0.4444444444444444,
              "#bd3786"
             ],
             [
              0.5555555555555556,
              "#d8576b"
             ],
             [
              0.6666666666666666,
              "#ed7953"
             ],
             [
              0.7777777777777778,
              "#fb9f3a"
             ],
             [
              0.8888888888888888,
              "#fdca26"
             ],
             [
              1,
              "#f0f921"
             ]
            ],
            "type": "surface"
           }
          ],
          "table": [
           {
            "cells": {
             "fill": {
              "color": "#EBF0F8"
             },
             "line": {
              "color": "white"
             }
            },
            "header": {
             "fill": {
              "color": "#C8D4E3"
             },
             "line": {
              "color": "white"
             }
            },
            "type": "table"
           }
          ]
         },
         "layout": {
          "annotationdefaults": {
           "arrowcolor": "#2a3f5f",
           "arrowhead": 0,
           "arrowwidth": 1
          },
          "autotypenumbers": "strict",
          "coloraxis": {
           "colorbar": {
            "outlinewidth": 0,
            "ticks": ""
           }
          },
          "colorscale": {
           "diverging": [
            [
             0,
             "#8e0152"
            ],
            [
             0.1,
             "#c51b7d"
            ],
            [
             0.2,
             "#de77ae"
            ],
            [
             0.3,
             "#f1b6da"
            ],
            [
             0.4,
             "#fde0ef"
            ],
            [
             0.5,
             "#f7f7f7"
            ],
            [
             0.6,
             "#e6f5d0"
            ],
            [
             0.7,
             "#b8e186"
            ],
            [
             0.8,
             "#7fbc41"
            ],
            [
             0.9,
             "#4d9221"
            ],
            [
             1,
             "#276419"
            ]
           ],
           "sequential": [
            [
             0,
             "#0d0887"
            ],
            [
             0.1111111111111111,
             "#46039f"
            ],
            [
             0.2222222222222222,
             "#7201a8"
            ],
            [
             0.3333333333333333,
             "#9c179e"
            ],
            [
             0.4444444444444444,
             "#bd3786"
            ],
            [
             0.5555555555555556,
             "#d8576b"
            ],
            [
             0.6666666666666666,
             "#ed7953"
            ],
            [
             0.7777777777777778,
             "#fb9f3a"
            ],
            [
             0.8888888888888888,
             "#fdca26"
            ],
            [
             1,
             "#f0f921"
            ]
           ],
           "sequentialminus": [
            [
             0,
             "#0d0887"
            ],
            [
             0.1111111111111111,
             "#46039f"
            ],
            [
             0.2222222222222222,
             "#7201a8"
            ],
            [
             0.3333333333333333,
             "#9c179e"
            ],
            [
             0.4444444444444444,
             "#bd3786"
            ],
            [
             0.5555555555555556,
             "#d8576b"
            ],
            [
             0.6666666666666666,
             "#ed7953"
            ],
            [
             0.7777777777777778,
             "#fb9f3a"
            ],
            [
             0.8888888888888888,
             "#fdca26"
            ],
            [
             1,
             "#f0f921"
            ]
           ]
          },
          "colorway": [
           "#636efa",
           "#EF553B",
           "#00cc96",
           "#ab63fa",
           "#FFA15A",
           "#19d3f3",
           "#FF6692",
           "#B6E880",
           "#FF97FF",
           "#FECB52"
          ],
          "font": {
           "color": "#2a3f5f"
          },
          "geo": {
           "bgcolor": "white",
           "lakecolor": "white",
           "landcolor": "#E5ECF6",
           "showlakes": true,
           "showland": true,
           "subunitcolor": "white"
          },
          "hoverlabel": {
           "align": "left"
          },
          "hovermode": "closest",
          "mapbox": {
           "style": "light"
          },
          "paper_bgcolor": "white",
          "plot_bgcolor": "#E5ECF6",
          "polar": {
           "angularaxis": {
            "gridcolor": "white",
            "linecolor": "white",
            "ticks": ""
           },
           "bgcolor": "#E5ECF6",
           "radialaxis": {
            "gridcolor": "white",
            "linecolor": "white",
            "ticks": ""
           }
          },
          "scene": {
           "xaxis": {
            "backgroundcolor": "#E5ECF6",
            "gridcolor": "white",
            "gridwidth": 2,
            "linecolor": "white",
            "showbackground": true,
            "ticks": "",
            "zerolinecolor": "white"
           },
           "yaxis": {
            "backgroundcolor": "#E5ECF6",
            "gridcolor": "white",
            "gridwidth": 2,
            "linecolor": "white",
            "showbackground": true,
            "ticks": "",
            "zerolinecolor": "white"
           },
           "zaxis": {
            "backgroundcolor": "#E5ECF6",
            "gridcolor": "white",
            "gridwidth": 2,
            "linecolor": "white",
            "showbackground": true,
            "ticks": "",
            "zerolinecolor": "white"
           }
          },
          "shapedefaults": {
           "line": {
            "color": "#2a3f5f"
           }
          },
          "ternary": {
           "aaxis": {
            "gridcolor": "white",
            "linecolor": "white",
            "ticks": ""
           },
           "baxis": {
            "gridcolor": "white",
            "linecolor": "white",
            "ticks": ""
           },
           "bgcolor": "#E5ECF6",
           "caxis": {
            "gridcolor": "white",
            "linecolor": "white",
            "ticks": ""
           }
          },
          "title": {
           "x": 0.05
          },
          "xaxis": {
           "automargin": true,
           "gridcolor": "white",
           "linecolor": "white",
           "ticks": "",
           "title": {
            "standoff": 15
           },
           "zerolinecolor": "white",
           "zerolinewidth": 2
          },
          "yaxis": {
           "automargin": true,
           "gridcolor": "white",
           "linecolor": "white",
           "ticks": "",
           "title": {
            "standoff": 15
           },
           "zerolinecolor": "white",
           "zerolinewidth": 2
          }
         }
        },
        "title": {
         "text": "FAIXA ETÁRIA DO ELEITORADO - SÃO JOSÉ DOS CAMPOS / 2018"
        },
        "xaxis": {
         "anchor": "y",
         "domain": [
          0,
          1
         ],
         "title": {
          "text": "Faixa Etária"
         }
        },
        "yaxis": {
         "anchor": "x",
         "domain": [
          0,
          1
         ],
         "title": {
          "text": "Eleitores"
         }
        }
       }
      }
     },
     "metadata": {}
    }
   ],
   "source": [
    "total_eleitores_faixaetaria = municipio_eleitores.groupby('DS_FAIXA_ETARIA')['QT_ELEITORES_PERFIL'].sum()\n",
    "fig=px.bar(total_eleitores_faixaetaria, x= total_eleitores_faixaetaria.index, y=total_eleitores_faixaetaria.values,\n",
    "          title=\"FAIXA ETÁRIA DO ELEITORADO - \" + eleicao_municipio.upper() + \" / \" + str(eleicao_ano), \n",
    "          labels={'y':'Eleitores', 'DS_FAIXA_ETARIA':'Faixa Etária'})\n",
    "\n",
    "fig.show()"
   ]
  },
  {
   "cell_type": "markdown",
   "id": "impressive-frontier",
   "metadata": {},
   "source": [
    "### Quantidade de eleitores inscritos com nome social\n",
    "A adoção do nome social e o reconhecimento da identidade de gênero foi garantido pelo Decreto Nº8.727, divulgado em abril de 2016 pela Presidência da República. Ele prevê que a pessoa transgênera ou travesti tem o direito de solicitar a inclusão do seu nome social em documentos oficiais e nos registros dos sistemas de informação dos órgãos e entidades da administração pública federal.\n",
    "\n",
    "Abaixo podemos ver quantas pessoas declararam o uso de nome social no município que estamos analisando:"
   ]
  },
  {
   "cell_type": "code",
   "execution_count": 118,
   "id": "fancy-appliance",
   "metadata": {},
   "outputs": [
    {
     "output_type": "stream",
     "name": "stdout",
     "text": [
      "Em São José dos Campos, estavam inscritos 34 eleitores com nome social no ano de 2018.\n"
     ]
    }
   ],
   "source": [
    "total_eleitores_nomesocial = 0 # Iniciando a variável\n",
    "df_nomesocial = municipio_eleitores.groupby('QT_ELEITORES_INC_NM_SOCIAL')['QT_ELEITORES_INC_NM_SOCIAL'].sum()\n",
    "\n",
    "# Somando a quantidade de eleitores com nome social em cada grupo\n",
    "for index_nomesocial in range(len(df_nomesocial)):\n",
    "    total_eleitores_nomesocial += df_nomesocial.index[index_nomesocial] * df_nomesocial.values[index_nomesocial]\n",
    "\n",
    "# Exibindo resultado na tela\n",
    "if total_eleitores_nomesocial > 1:\n",
    "    print(f\"Em {eleicao_municipio}, estavam inscritos {total_eleitores_nomesocial} eleitores com nome social no ano de {eleicao_ano}.\")\n",
    "elif total_eleitores_nomesocial == 1:\n",
    "    print(f\"Em {eleicao_municipio}, estava inscrito {total_eleitores_nomesocial} eleitor com nome social no ano de {eleicao_ano}.\")\n",
    "else:\n",
    "    print(f\"Em {eleicao_municipio}, não estava inscrito nenhum eleitor com nome social no ano de {eleicao_ano}.\")"
   ]
  },
  {
   "cell_type": "markdown",
   "id": "3ac93a78",
   "metadata": {},
   "source": [
    "## E agora?\n",
    "Bom, esses foram os dados que pudemos analisar, e agora que já sabe o que pode fazer e como fazer, fique a vontade para analisar os dados de outros municípios e anos, mas claro, que estejam dentro do nosso alcance. Para isso, consulte as tabelas e listas que estão no começo nesse notebook ✨"
   ]
  }
 ],
 "metadata": {
  "kernelspec": {
   "name": "python391jvsc74a57bd03dc0479a26bfc3de57c89f0be4a88c8b7a98ea05808b9137958c7597151477d5",
   "display_name": "Python 3.9.1 64-bit"
  },
  "language_info": {
   "codemirror_mode": {
    "name": "ipython",
    "version": 3
   },
   "file_extension": ".py",
   "mimetype": "text/x-python",
   "name": "python",
   "nbconvert_exporter": "python",
   "pygments_lexer": "ipython3",
   "version": "3.9.1-final"
  },
  "metadata": {
   "interpreter": {
    "hash": "3dc0479a26bfc3de57c89f0be4a88c8b7a98ea05808b9137958c7597151477d5"
   }
  }
 },
 "nbformat": 4,
 "nbformat_minor": 5
}